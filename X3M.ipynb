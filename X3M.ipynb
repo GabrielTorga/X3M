{
 "cells": [
  {
   "cell_type": "code",
   "execution_count": 221,
   "id": "initial_id",
   "metadata": {
    "collapsed": true,
    "ExecuteTime": {
     "end_time": "2023-10-16T22:12:11.546748Z",
     "start_time": "2023-10-16T22:12:11.521412Z"
    }
   },
   "outputs": [],
   "source": [
    "import pandas as pd\n",
    "import os\n",
    "import json\n",
    "import numpy as np\n",
    "import matplotlib.pyplot as plt\n",
    "import seaborn as sns\n",
    "from sklearn.preprocessing import RobustScaler"
   ]
  },
  {
   "cell_type": "code",
   "execution_count": 2,
   "outputs": [
    {
     "data": {
      "text/plain": "'/Users/gabrieltorga/DataspellProjects'"
     },
     "execution_count": 2,
     "metadata": {},
     "output_type": "execute_result"
    }
   ],
   "source": [
    "os.getcwd()"
   ],
   "metadata": {
    "collapsed": false,
    "ExecuteTime": {
     "end_time": "2023-10-16T18:31:43.914382Z",
     "start_time": "2023-10-16T18:31:43.896497Z"
    }
   },
   "id": "89e61cfa84492951"
  },
  {
   "cell_type": "code",
   "execution_count": 71,
   "outputs": [],
   "source": [
    "# df = pd.read_table('Challege-Data-V2.tsv')\n",
    "df = pd.read_csv('Challege-Data-V2.tsv', sep='\\t')\n",
    "# df = pd.read_csv('Challege-Data-V2.tsv', sep='\\t',  converters={'waterfall_result': literal_eval})\n"
   ],
   "metadata": {
    "collapsed": false,
    "ExecuteTime": {
     "end_time": "2023-10-16T19:05:34.101186Z",
     "start_time": "2023-10-16T19:05:30.902983Z"
    }
   },
   "id": "fbe10bc8d4043c73"
  },
  {
   "cell_type": "code",
   "execution_count": 72,
   "outputs": [
    {
     "data": {
      "text/plain": "                               event_id                  event_time  \\\n0  0f46e96e-927d-4dbb-b3ed-ec369b590b6e  2023-09-25 01:01:40.371000   \n1  02ff7776-6fc0-4703-b156-2a2ff1fbce51  2023-09-25 01:01:37.363000   \n2  c0027e65-59db-4188-940d-d6aa71a74ff5  2023-09-25 01:00:55.767000   \n3  0b4d0ba6-fba7-4a77-9a82-804d8403012c  2023-09-25 01:01:05.237000   \n4  a76a1287-639f-4df5-a40b-70d9edfe330e  2023-09-25 01:01:07.169000   \n\n       app_id platform country     user_id adtype connection_type  \\\n0  1667250886      ios      US  1470652441    itt            wifi   \n1  1667250886      ios      US  1301174730    itt            wifi   \n2  1667250886      ios      US  1557205304    itt            wifi   \n3  1667250886      ios      US  1234667645    itt            wifi   \n4  1667250886      ios      US  2048965824    itt            wifi   \n\n                                              device  \\\n0  {\"type\":\"phone\",\"model\":\"iPhone14,8\",\"w\":1284,...   \n1  {\"type\":\"phone\",\"model\":\"iPhone11,8\",\"w\":828,\"...   \n2  {\"type\":\"phone\",\"model\":\"iPhone12,5\",\"w\":1242,...   \n3  {\"type\":\"phone\",\"model\":\"iPhone12,1\",\"w\":828,\"...   \n4  {\"type\":\"phone\",\"model\":\"iPhone15,2\",\"w\":1179,...   \n\n                             session_id  waterfall_id  lifecycle_counter  \\\n0  2019e503-aa93-4981-a227-97df8aba5244          2196                  1   \n1  988f5138-ecce-4157-a384-2061fb30d651          2250                  1   \n2  73ced24a-12ce-4dde-a0e9-03e1de9e569a          2250                  1   \n3  7414053b-6730-4b62-97df-60ecac79ca43          2250                  1   \n4  cb19eecd-d5bd-4089-b73c-81dfd6b58215          2250                  1   \n\n                                    waterfall_result  \n0  [{\"id\":\"4717\",\"partner\":\"AdMob\",\"ecpm\":107.8,\"...  \n1  [{\"id\":\"4715\",\"partner\":\"Chartboost\",\"ecpm\":10...  \n2  [{\"id\":\"4715\",\"partner\":\"Chartboost\",\"ecpm\":10...  \n3  [{\"id\":\"4715\",\"partner\":\"Chartboost\",\"ecpm\":10...  \n4  [{\"id\":\"4715\",\"partner\":\"Chartboost\",\"ecpm\":10...  ",
      "text/html": "<div>\n<style scoped>\n    .dataframe tbody tr th:only-of-type {\n        vertical-align: middle;\n    }\n\n    .dataframe tbody tr th {\n        vertical-align: top;\n    }\n\n    .dataframe thead th {\n        text-align: right;\n    }\n</style>\n<table border=\"1\" class=\"dataframe\">\n  <thead>\n    <tr style=\"text-align: right;\">\n      <th></th>\n      <th>event_id</th>\n      <th>event_time</th>\n      <th>app_id</th>\n      <th>platform</th>\n      <th>country</th>\n      <th>user_id</th>\n      <th>adtype</th>\n      <th>connection_type</th>\n      <th>device</th>\n      <th>session_id</th>\n      <th>waterfall_id</th>\n      <th>lifecycle_counter</th>\n      <th>waterfall_result</th>\n    </tr>\n  </thead>\n  <tbody>\n    <tr>\n      <th>0</th>\n      <td>0f46e96e-927d-4dbb-b3ed-ec369b590b6e</td>\n      <td>2023-09-25 01:01:40.371000</td>\n      <td>1667250886</td>\n      <td>ios</td>\n      <td>US</td>\n      <td>1470652441</td>\n      <td>itt</td>\n      <td>wifi</td>\n      <td>{\"type\":\"phone\",\"model\":\"iPhone14,8\",\"w\":1284,...</td>\n      <td>2019e503-aa93-4981-a227-97df8aba5244</td>\n      <td>2196</td>\n      <td>1</td>\n      <td>[{\"id\":\"4717\",\"partner\":\"AdMob\",\"ecpm\":107.8,\"...</td>\n    </tr>\n    <tr>\n      <th>1</th>\n      <td>02ff7776-6fc0-4703-b156-2a2ff1fbce51</td>\n      <td>2023-09-25 01:01:37.363000</td>\n      <td>1667250886</td>\n      <td>ios</td>\n      <td>US</td>\n      <td>1301174730</td>\n      <td>itt</td>\n      <td>wifi</td>\n      <td>{\"type\":\"phone\",\"model\":\"iPhone11,8\",\"w\":828,\"...</td>\n      <td>988f5138-ecce-4157-a384-2061fb30d651</td>\n      <td>2250</td>\n      <td>1</td>\n      <td>[{\"id\":\"4715\",\"partner\":\"Chartboost\",\"ecpm\":10...</td>\n    </tr>\n    <tr>\n      <th>2</th>\n      <td>c0027e65-59db-4188-940d-d6aa71a74ff5</td>\n      <td>2023-09-25 01:00:55.767000</td>\n      <td>1667250886</td>\n      <td>ios</td>\n      <td>US</td>\n      <td>1557205304</td>\n      <td>itt</td>\n      <td>wifi</td>\n      <td>{\"type\":\"phone\",\"model\":\"iPhone12,5\",\"w\":1242,...</td>\n      <td>73ced24a-12ce-4dde-a0e9-03e1de9e569a</td>\n      <td>2250</td>\n      <td>1</td>\n      <td>[{\"id\":\"4715\",\"partner\":\"Chartboost\",\"ecpm\":10...</td>\n    </tr>\n    <tr>\n      <th>3</th>\n      <td>0b4d0ba6-fba7-4a77-9a82-804d8403012c</td>\n      <td>2023-09-25 01:01:05.237000</td>\n      <td>1667250886</td>\n      <td>ios</td>\n      <td>US</td>\n      <td>1234667645</td>\n      <td>itt</td>\n      <td>wifi</td>\n      <td>{\"type\":\"phone\",\"model\":\"iPhone12,1\",\"w\":828,\"...</td>\n      <td>7414053b-6730-4b62-97df-60ecac79ca43</td>\n      <td>2250</td>\n      <td>1</td>\n      <td>[{\"id\":\"4715\",\"partner\":\"Chartboost\",\"ecpm\":10...</td>\n    </tr>\n    <tr>\n      <th>4</th>\n      <td>a76a1287-639f-4df5-a40b-70d9edfe330e</td>\n      <td>2023-09-25 01:01:07.169000</td>\n      <td>1667250886</td>\n      <td>ios</td>\n      <td>US</td>\n      <td>2048965824</td>\n      <td>itt</td>\n      <td>wifi</td>\n      <td>{\"type\":\"phone\",\"model\":\"iPhone15,2\",\"w\":1179,...</td>\n      <td>cb19eecd-d5bd-4089-b73c-81dfd6b58215</td>\n      <td>2250</td>\n      <td>1</td>\n      <td>[{\"id\":\"4715\",\"partner\":\"Chartboost\",\"ecpm\":10...</td>\n    </tr>\n  </tbody>\n</table>\n</div>"
     },
     "execution_count": 72,
     "metadata": {},
     "output_type": "execute_result"
    }
   ],
   "source": [
    "df.head(5)"
   ],
   "metadata": {
    "collapsed": false,
    "ExecuteTime": {
     "end_time": "2023-10-16T19:05:35.053251Z",
     "start_time": "2023-10-16T19:05:35.043499Z"
    }
   },
   "id": "5e21756154f91b5d"
  },
  {
   "cell_type": "code",
   "execution_count": 73,
   "outputs": [
    {
     "data": {
      "text/plain": "1656044"
     },
     "execution_count": 73,
     "metadata": {},
     "output_type": "execute_result"
    }
   ],
   "source": [
    "df.size"
   ],
   "metadata": {
    "collapsed": false,
    "ExecuteTime": {
     "end_time": "2023-10-16T19:05:35.957304Z",
     "start_time": "2023-10-16T19:05:35.943200Z"
    }
   },
   "id": "47a749f08c0ea803"
  },
  {
   "cell_type": "markdown",
   "source": [
    "#### Processing device data"
   ],
   "metadata": {
    "collapsed": false
   },
   "id": "175d4755e6ea6653"
  },
  {
   "cell_type": "code",
   "execution_count": 74,
   "outputs": [],
   "source": [
    "df['device'] = df['device'].apply(lambda x: eval(x))\n",
    "dfdevice = pd.json_normalize(df['device'])\n",
    "dfdevice.rename(columns={'type':'device_type', 'model':'device_model', 'w':'device_w', 'h':'device_h', 'memory_total':'device_memory'},\n",
    "                inplace=True)\n",
    "df = pd.concat([df.drop(['device'], axis=1), dfdevice], axis=1)\n",
    "df['device_model'] = df['device_model'].str.extract('(\\d+)')\n",
    "df['device_model'] = df['device_model'].astype(str).astype(int)"
   ],
   "metadata": {
    "collapsed": false,
    "ExecuteTime": {
     "end_time": "2023-10-16T19:05:38.529601Z",
     "start_time": "2023-10-16T19:05:36.843232Z"
    }
   },
   "id": "c4bcbf10c13b0bac"
  },
  {
   "cell_type": "markdown",
   "source": [
    "#### **Understanding waterfall logic**"
   ],
   "metadata": {
    "collapsed": false
   },
   "id": "18a72c09f809b94b"
  },
  {
   "cell_type": "code",
   "execution_count": 75,
   "outputs": [
    {
     "name": "stdout",
     "output_type": "stream",
     "text": [
      "0    [{\"id\":\"4717\",\"partner\":\"AdMob\",\"ecpm\":107.8,\"...\n",
      "Name: waterfall_result, dtype: object\n",
      "<class 'pandas.core.series.Series'>\n"
     ]
    }
   ],
   "source": [
    "print(df[:1]['waterfall_result'])\n",
    "print(type(df[:1]['waterfall_result']))"
   ],
   "metadata": {
    "collapsed": false,
    "ExecuteTime": {
     "end_time": "2023-10-16T19:06:04.089590Z",
     "start_time": "2023-10-16T19:06:04.069706Z"
    }
   },
   "id": "3e844c57aadf2244"
  },
  {
   "cell_type": "code",
   "execution_count": 76,
   "outputs": [
    {
     "name": "stdout",
     "output_type": "stream",
     "text": [
      "{'id': '4717', 'partner': 'AdMob', 'ecpm': 107.8, 'latency': 1088, 'error': '1'}\n",
      "<class 'dict'>\n",
      "{'id': '4715', 'partner': 'Chartboost', 'ecpm': 100.0, 'latency': 60, 'error': '3'}\n",
      "<class 'dict'>\n",
      "{'id': '4156', 'partner': 'AppLovin', 'ecpm': 86.0, 'latency': 914, 'error': '204'}\n",
      "<class 'dict'>\n",
      "{'id': '4723', 'partner': 'DFP', 'ecpm': 83.09, 'latency': 611, 'error': '1'}\n",
      "<class 'dict'>\n",
      "{'id': '4724', 'partner': 'IronSource', 'ecpm': 83.0, 'latency': 715, 'error': '0'}\n",
      "<class 'dict'>\n",
      "{'id': '4726', 'partner': 'Unity', 'ecpm': 81.0, 'latency': 1296, 'error': '3'}\n",
      "<class 'dict'>\n",
      "{'id': '4720', 'partner': 'Vungle', 'ecpm': 80.75, 'latency': 345, 'error': '-119999'}\n",
      "<class 'dict'>\n",
      "{'id': '4730', 'partner': 'Chartboost', 'ecpm': 79.0, 'latency': 43, 'error': '3'}\n",
      "<class 'dict'>\n",
      "{'id': '4728', 'partner': 'Vungle', 'ecpm': 76.0, 'latency': 0, 'error': '13'}\n",
      "<class 'dict'>\n",
      "{'id': '9823', 'partner': 'Makroo', 'ecpm': 75.0, 'latency': 409, 'error': '1'}\n",
      "<class 'dict'>\n",
      "{'id': '4741', 'partner': 'Chartboost', 'ecpm': 72.0, 'latency': 28, 'error': '3'}\n",
      "<class 'dict'>\n",
      "{'id': '10149', 'partner': 'ReklamUp', 'ecpm': 70.0, 'latency': 425, 'error': '1'}\n",
      "<class 'dict'>\n",
      "{'id': '4762', 'partner': 'Chartboost', 'ecpm': 60.0, 'latency': 29, 'error': '3'}\n",
      "<class 'dict'>\n",
      "{'id': '4755', 'partner': 'Vungle', 'ecpm': 59.85, 'latency': 166, 'error': '-119999'}\n",
      "<class 'dict'>\n",
      "{'id': '4757', 'partner': 'Mintegral', 'ecpm': 58.56, 'latency': 678, 'error': '-1'}\n",
      "<class 'dict'>\n",
      "{'id': '4160', 'partner': 'Fyber', 'ecpm': 54.45, 'latency': 826, 'error': '204'}\n",
      "<class 'dict'>\n",
      "{'id': '4766', 'partner': 'Vungle', 'ecpm': 54.15, 'latency': 173, 'error': '-119999'}\n",
      "<class 'dict'>\n",
      "{'id': '4782', 'partner': 'IronSource', 'ecpm': 46.0, 'latency': 665, 'error': '0'}\n",
      "<class 'dict'>\n",
      "{'id': '4786', 'partner': 'Fyber', 'ecpm': 43.065, 'latency': 1055, 'error': '204'}\n",
      "<class 'dict'>\n",
      "{'id': '25330', 'partner': 'VungleS2S', 'ecpm': 41.503125, 'latency': 0, 'auction_id': '57f0a71e-2edd-48fa-b57c-c4b04937c4bb_vd'}\n",
      "<class 'dict'>\n"
     ]
    }
   ],
   "source": [
    "for i in df[:1]['waterfall_result']:\n",
    "    for item in eval(i):\n",
    "        print(item)\n",
    "        print(type(item))"
   ],
   "metadata": {
    "collapsed": false,
    "ExecuteTime": {
     "end_time": "2023-10-16T19:06:11.015593Z",
     "start_time": "2023-10-16T19:06:11.009248Z"
    }
   },
   "id": "53ed81e0907189dc"
  },
  {
   "cell_type": "markdown",
   "source": [
    "#### Processing device data"
   ],
   "metadata": {
    "collapsed": false
   },
   "id": "298cdad4e5b63fef"
  },
  {
   "cell_type": "code",
   "execution_count": 77,
   "outputs": [],
   "source": [
    "df['waterfall_result'] = df['waterfall_result'].apply(json.loads)\n",
    "# df['waterfall_result'] = df['waterfall_result'].apply(lambda x: eval(x))"
   ],
   "metadata": {
    "collapsed": false,
    "ExecuteTime": {
     "end_time": "2023-10-16T19:06:21.121824Z",
     "start_time": "2023-10-16T19:06:18.063173Z"
    }
   },
   "id": "5208bcbac10c4137"
  },
  {
   "cell_type": "code",
   "execution_count": 78,
   "outputs": [
    {
     "name": "stdout",
     "output_type": "stream",
     "text": [
      "<class 'list'>\n"
     ]
    }
   ],
   "source": [
    "for i in df[:1]['waterfall_result']:\n",
    "    print(type(i))"
   ],
   "metadata": {
    "collapsed": false,
    "ExecuteTime": {
     "end_time": "2023-10-16T19:06:22.072122Z",
     "start_time": "2023-10-16T19:06:22.060906Z"
    }
   },
   "id": "ef009e3940569691"
  },
  {
   "cell_type": "code",
   "execution_count": 79,
   "outputs": [],
   "source": [
    "df = df.explode('waterfall_result').reset_index(drop=True)\n",
    "dfwaterfalls = pd.json_normalize(df['waterfall_result'])\n",
    "dfwaterfalls.rename(columns={'id':'instance_id', 'error':'instance_error'},\n",
    "                    inplace=True)\n",
    "df = pd.concat([df.drop(['waterfall_result'], axis=1), dfwaterfalls], axis=1)"
   ],
   "metadata": {
    "collapsed": false,
    "ExecuteTime": {
     "end_time": "2023-10-16T19:06:35.514673Z",
     "start_time": "2023-10-16T19:06:23.721333Z"
    }
   },
   "id": "c149986854c571b8"
  },
  {
   "cell_type": "markdown",
   "source": [
    "#### Adding target"
   ],
   "metadata": {
    "collapsed": false
   },
   "id": "e0c1418932356822"
  },
  {
   "cell_type": "code",
   "execution_count": 91,
   "outputs": [],
   "source": [
    "df['instance_error'] = np.where(df['instance_error'].isnull(), 1, 0)\n",
    "df.rename(columns={'instance_error':'target'}, inplace=True)"
   ],
   "metadata": {
    "collapsed": false,
    "ExecuteTime": {
     "end_time": "2023-10-16T19:11:28.928910Z",
     "start_time": "2023-10-16T19:11:28.918163Z"
    }
   },
   "id": "141561b871386060"
  },
  {
   "cell_type": "markdown",
   "source": [
    "#### **Exploring the dataset**\n"
   ],
   "metadata": {
    "collapsed": false
   },
   "id": "cab8f7db74b28309"
  },
  {
   "cell_type": "code",
   "execution_count": 80,
   "outputs": [
    {
     "data": {
      "text/plain": "             app_id       user_id  waterfall_id  lifecycle_counter  \\\ncount  5.516622e+06  5.516622e+06  5.516622e+06       5.516622e+06   \nmean   1.667251e+09  1.066500e+09  2.245274e+03       4.085091e+00   \nstd    0.000000e+00  6.263451e+08  5.260740e+01       5.692902e+00   \nmin    1.667251e+09  1.930050e+05  2.196000e+03       1.000000e+00   \n25%    1.667251e+09  5.199652e+08  2.196000e+03       1.000000e+00   \n50%    1.667251e+09  1.063532e+09  2.196000e+03       2.000000e+00   \n75%    1.667251e+09  1.613505e+09  2.305000e+03       5.000000e+00   \nmax    1.667251e+09  2.147431e+09  2.305000e+03       9.300000e+01   \n\n       device_model      device_w      device_h  device_memory          ecpm  \\\ncount  5.516622e+06  5.516622e+06  5.516622e+06   5.516622e+06  5.516622e+06   \nmean   1.275968e+01  1.157663e+03  2.345122e+03   4.312215e+03  3.639513e+01   \nstd    1.951448e+00  2.369436e+02  4.141654e+02   1.249446e+03  2.410781e+01   \nmin    4.000000e+00  6.400000e+02  1.136000e+03   9.690000e+02  4.750000e-02   \n25%    1.200000e+01  1.080000e+03  2.048000e+03   3.647000e+03  1.677760e+01   \n50%    1.300000e+01  1.170000e+03  2.532000e+03   3.851000e+03  3.100000e+01   \n75%    1.400000e+01  1.284000e+03  2.556000e+03   5.644000e+03  5.200000e+01   \nmax    1.600000e+01  2.048000e+03  2.796000e+03   1.570100e+04  7.500000e+02   \n\n            latency  \ncount  5.516622e+06  \nmean   4.799606e+02  \nstd    1.056863e+04  \nmin    0.000000e+00  \n25%    2.270000e+02  \n50%    3.770000e+02  \n75%    5.540000e+02  \nmax    1.454181e+07  ",
      "text/html": "<div>\n<style scoped>\n    .dataframe tbody tr th:only-of-type {\n        vertical-align: middle;\n    }\n\n    .dataframe tbody tr th {\n        vertical-align: top;\n    }\n\n    .dataframe thead th {\n        text-align: right;\n    }\n</style>\n<table border=\"1\" class=\"dataframe\">\n  <thead>\n    <tr style=\"text-align: right;\">\n      <th></th>\n      <th>app_id</th>\n      <th>user_id</th>\n      <th>waterfall_id</th>\n      <th>lifecycle_counter</th>\n      <th>device_model</th>\n      <th>device_w</th>\n      <th>device_h</th>\n      <th>device_memory</th>\n      <th>ecpm</th>\n      <th>latency</th>\n    </tr>\n  </thead>\n  <tbody>\n    <tr>\n      <th>count</th>\n      <td>5.516622e+06</td>\n      <td>5.516622e+06</td>\n      <td>5.516622e+06</td>\n      <td>5.516622e+06</td>\n      <td>5.516622e+06</td>\n      <td>5.516622e+06</td>\n      <td>5.516622e+06</td>\n      <td>5.516622e+06</td>\n      <td>5.516622e+06</td>\n      <td>5.516622e+06</td>\n    </tr>\n    <tr>\n      <th>mean</th>\n      <td>1.667251e+09</td>\n      <td>1.066500e+09</td>\n      <td>2.245274e+03</td>\n      <td>4.085091e+00</td>\n      <td>1.275968e+01</td>\n      <td>1.157663e+03</td>\n      <td>2.345122e+03</td>\n      <td>4.312215e+03</td>\n      <td>3.639513e+01</td>\n      <td>4.799606e+02</td>\n    </tr>\n    <tr>\n      <th>std</th>\n      <td>0.000000e+00</td>\n      <td>6.263451e+08</td>\n      <td>5.260740e+01</td>\n      <td>5.692902e+00</td>\n      <td>1.951448e+00</td>\n      <td>2.369436e+02</td>\n      <td>4.141654e+02</td>\n      <td>1.249446e+03</td>\n      <td>2.410781e+01</td>\n      <td>1.056863e+04</td>\n    </tr>\n    <tr>\n      <th>min</th>\n      <td>1.667251e+09</td>\n      <td>1.930050e+05</td>\n      <td>2.196000e+03</td>\n      <td>1.000000e+00</td>\n      <td>4.000000e+00</td>\n      <td>6.400000e+02</td>\n      <td>1.136000e+03</td>\n      <td>9.690000e+02</td>\n      <td>4.750000e-02</td>\n      <td>0.000000e+00</td>\n    </tr>\n    <tr>\n      <th>25%</th>\n      <td>1.667251e+09</td>\n      <td>5.199652e+08</td>\n      <td>2.196000e+03</td>\n      <td>1.000000e+00</td>\n      <td>1.200000e+01</td>\n      <td>1.080000e+03</td>\n      <td>2.048000e+03</td>\n      <td>3.647000e+03</td>\n      <td>1.677760e+01</td>\n      <td>2.270000e+02</td>\n    </tr>\n    <tr>\n      <th>50%</th>\n      <td>1.667251e+09</td>\n      <td>1.063532e+09</td>\n      <td>2.196000e+03</td>\n      <td>2.000000e+00</td>\n      <td>1.300000e+01</td>\n      <td>1.170000e+03</td>\n      <td>2.532000e+03</td>\n      <td>3.851000e+03</td>\n      <td>3.100000e+01</td>\n      <td>3.770000e+02</td>\n    </tr>\n    <tr>\n      <th>75%</th>\n      <td>1.667251e+09</td>\n      <td>1.613505e+09</td>\n      <td>2.305000e+03</td>\n      <td>5.000000e+00</td>\n      <td>1.400000e+01</td>\n      <td>1.284000e+03</td>\n      <td>2.556000e+03</td>\n      <td>5.644000e+03</td>\n      <td>5.200000e+01</td>\n      <td>5.540000e+02</td>\n    </tr>\n    <tr>\n      <th>max</th>\n      <td>1.667251e+09</td>\n      <td>2.147431e+09</td>\n      <td>2.305000e+03</td>\n      <td>9.300000e+01</td>\n      <td>1.600000e+01</td>\n      <td>2.048000e+03</td>\n      <td>2.796000e+03</td>\n      <td>1.570100e+04</td>\n      <td>7.500000e+02</td>\n      <td>1.454181e+07</td>\n    </tr>\n  </tbody>\n</table>\n</div>"
     },
     "execution_count": 80,
     "metadata": {},
     "output_type": "execute_result"
    }
   ],
   "source": [
    "df.describe()\n",
    "# Unique: app_id, user_id, waterfall_id"
   ],
   "metadata": {
    "collapsed": false,
    "ExecuteTime": {
     "end_time": "2023-10-16T19:08:06.261670Z",
     "start_time": "2023-10-16T19:08:05.491143Z"
    }
   },
   "id": "79aa16caa3c2fc46"
  },
  {
   "cell_type": "code",
   "execution_count": 81,
   "outputs": [
    {
     "name": "stdout",
     "output_type": "stream",
     "text": [
      "2023-09-25 00:00:02.570000\n",
      "2023-10-01 23:59:55.587000\n"
     ]
    }
   ],
   "source": [
    "print(df.event_time.min())\n",
    "print(df.event_time.max())"
   ],
   "metadata": {
    "collapsed": false,
    "ExecuteTime": {
     "end_time": "2023-10-16T19:08:06.536273Z",
     "start_time": "2023-10-16T19:08:06.346283Z"
    }
   },
   "id": "6f525b4f1a048a5e"
  },
  {
   "cell_type": "code",
   "execution_count": 82,
   "outputs": [
    {
     "data": {
      "text/plain": "(5516622, 22)"
     },
     "execution_count": 82,
     "metadata": {},
     "output_type": "execute_result"
    }
   ],
   "source": [
    "df.shape"
   ],
   "metadata": {
    "collapsed": false,
    "ExecuteTime": {
     "end_time": "2023-10-16T19:08:11.924614Z",
     "start_time": "2023-10-16T19:08:11.908322Z"
    }
   },
   "id": "d3ee997923a66eaf"
  },
  {
   "cell_type": "code",
   "execution_count": 83,
   "outputs": [
    {
     "name": "stdout",
     "output_type": "stream",
     "text": [
      "Distinct values for event_id: 127388\n",
      "Distinct values for event_time: 127364\n",
      "Distinct values for app_id: 1\n",
      "Distinct values for platform: 1\n",
      "Distinct values for country: 1\n",
      "Distinct values for user_id: 14110\n",
      "Distinct values for adtype: 1\n",
      "Distinct values for connection_type: 5\n",
      "Distinct values for session_id: 62103\n",
      "Distinct values for waterfall_id: 3\n",
      "Distinct values for lifecycle_counter: 93\n",
      "Distinct values for device_type: 2\n",
      "Distinct values for device_model: 13\n",
      "Distinct values for device_w: 16\n",
      "Distinct values for device_h: 18\n",
      "Distinct values for device_memory: 166\n",
      "Distinct values for instance_id: 282\n",
      "Distinct values for partner: 23\n",
      "Distinct values for ecpm: 18156\n",
      "Distinct values for latency: 8880\n",
      "Distinct values for instance_error: 62\n",
      "Distinct values for auction_id: 40738\n"
     ]
    }
   ],
   "source": [
    "for i in list(df.columns):\n",
    "    print(f'Distinct values for {i}: {df[i].nunique()}')"
   ],
   "metadata": {
    "collapsed": false,
    "ExecuteTime": {
     "end_time": "2023-10-16T19:08:17.058459Z",
     "start_time": "2023-10-16T19:08:14.437732Z"
    }
   },
   "id": "e69f7e5ea17acbe2"
  },
  {
   "cell_type": "code",
   "execution_count": 84,
   "outputs": [
    {
     "name": "stdout",
     "output_type": "stream",
     "text": [
      "Nulls for event_id: 0\n",
      "Nulls for event_time: 0\n",
      "Nulls for app_id: 0\n",
      "Nulls for platform: 0\n",
      "Nulls for country: 0\n",
      "Nulls for user_id: 0\n",
      "Nulls for adtype: 0\n",
      "Nulls for connection_type: 0\n",
      "Nulls for session_id: 630\n",
      "Nulls for waterfall_id: 0\n",
      "Nulls for lifecycle_counter: 0\n",
      "Nulls for device_type: 0\n",
      "Nulls for device_model: 0\n",
      "Nulls for device_w: 0\n",
      "Nulls for device_h: 0\n",
      "Nulls for device_memory: 0\n",
      "Nulls for instance_id: 0\n",
      "Nulls for partner: 0\n",
      "Nulls for ecpm: 0\n",
      "Nulls for latency: 0\n",
      "Nulls for instance_error: 127388\n",
      "Nulls for auction_id: 5475884\n"
     ]
    }
   ],
   "source": [
    "for i in list(df.columns):\n",
    "    print(f'Nulls for {i}: {df[i].isnull().sum()}')"
   ],
   "metadata": {
    "collapsed": false,
    "ExecuteTime": {
     "end_time": "2023-10-16T19:08:18.661098Z",
     "start_time": "2023-10-16T19:08:17.143831Z"
    }
   },
   "id": "6a01c5e2356071d9"
  },
  {
   "cell_type": "markdown",
   "source": [
    "#### Checking distribution inside variables"
   ],
   "metadata": {
    "collapsed": false
   },
   "id": "e16e297a4bcb275f"
  },
  {
   "cell_type": "code",
   "execution_count": 85,
   "outputs": [
    {
     "data": {
      "text/plain": "connection_type\nwifi         0.804019\nmobile_4g    0.101834\nmobile_5g    0.094095\nmobile_3g    0.000041\nmobile_2g    0.000010\nName: proportion, dtype: float64"
     },
     "execution_count": 85,
     "metadata": {},
     "output_type": "execute_result"
    }
   ],
   "source": [
    "df.connection_type.value_counts(normalize=True, dropna=False)"
   ],
   "metadata": {
    "collapsed": false,
    "ExecuteTime": {
     "end_time": "2023-10-16T19:08:25.083242Z",
     "start_time": "2023-10-16T19:08:25.080544Z"
    }
   },
   "id": "78f1e73dfdfa8f11"
  },
  {
   "cell_type": "code",
   "execution_count": 86,
   "outputs": [
    {
     "data": {
      "text/plain": "device_type\nphone     0.89414\ntablet    0.10586\nName: proportion, dtype: float64"
     },
     "execution_count": 86,
     "metadata": {},
     "output_type": "execute_result"
    }
   ],
   "source": [
    "df.device_type.value_counts(normalize=True, dropna=False)"
   ],
   "metadata": {
    "collapsed": false,
    "ExecuteTime": {
     "end_time": "2023-10-16T19:08:26.324490Z",
     "start_time": "2023-10-16T19:08:26.321935Z"
    }
   },
   "id": "829482e21e163f1e"
  },
  {
   "cell_type": "code",
   "execution_count": 87,
   "outputs": [
    {
     "data": {
      "text/plain": "device_model\n14    0.337795\n13    0.197955\n12    0.184272\n15    0.102999\n11    0.079511\n10    0.030317\n7     0.021338\n6     0.015319\n8     0.010448\n9     0.008521\n16    0.005860\n5     0.005116\n4     0.000549\nName: proportion, dtype: float64"
     },
     "execution_count": 87,
     "metadata": {},
     "output_type": "execute_result"
    }
   ],
   "source": [
    "df.device_model.value_counts(normalize=True, dropna=False)\n"
   ],
   "metadata": {
    "collapsed": false,
    "ExecuteTime": {
     "end_time": "2023-10-16T19:08:27.827915Z",
     "start_time": "2023-10-16T19:08:27.822438Z"
    }
   },
   "id": "1d980d642fd60c7f"
  },
  {
   "cell_type": "code",
   "execution_count": 88,
   "outputs": [
    {
     "data": {
      "text/plain": "device_w\n1170    0.330219\n828     0.169073\n1284    0.143605\n1290    0.057147\n750     0.053509\n1179    0.051547\n1080    0.040963\n1620    0.034028\n1536    0.033461\n1125    0.025373\n1242    0.021293\n1640    0.020138\n1668    0.010723\n2048    0.006355\n640     0.001412\n1488    0.001154\nName: proportion, dtype: float64"
     },
     "execution_count": 88,
     "metadata": {},
     "output_type": "execute_result"
    }
   ],
   "source": [
    "df.device_w.value_counts(normalize=True, dropna=False)"
   ],
   "metadata": {
    "collapsed": false,
    "ExecuteTime": {
     "end_time": "2023-10-16T19:09:01.160082Z",
     "start_time": "2023-10-16T19:09:01.152678Z"
    }
   },
   "id": "677601087da1b3e6"
  },
  {
   "cell_type": "code",
   "execution_count": 89,
   "outputs": [
    {
     "data": {
      "text/plain": "device_h\n2532    0.330219\n1792    0.169073\n2778    0.143605\n2796    0.057147\n1334    0.053509\n2556    0.051547\n2160    0.034028\n2048    0.033461\n2340    0.025517\n2436    0.025373\n2688    0.021293\n2360    0.020138\n1920    0.015447\n2732    0.006355\n2224    0.005941\n2388    0.004783\n1136    0.001412\n2266    0.001154\nName: proportion, dtype: float64"
     },
     "execution_count": 89,
     "metadata": {},
     "output_type": "execute_result"
    }
   ],
   "source": [
    "df.device_h.value_counts(normalize=True, dropna=False)"
   ],
   "metadata": {
    "collapsed": false,
    "ExecuteTime": {
     "end_time": "2023-10-16T19:09:20.005498Z",
     "start_time": "2023-10-16T19:09:20.002454Z"
    }
   },
   "id": "2b14a02a93e9a2ed"
  },
  {
   "cell_type": "code",
   "execution_count": 133,
   "outputs": [
    {
     "data": {
      "text/plain": "0.25    16.7776\n0.50    31.0000\n0.75    52.0000\nName: ecpm, dtype: float64"
     },
     "execution_count": 133,
     "metadata": {},
     "output_type": "execute_result"
    }
   ],
   "source": [
    "df['ecpm'].quantile([0.25, 0.5, 0.75])"
   ],
   "metadata": {
    "collapsed": false,
    "ExecuteTime": {
     "end_time": "2023-10-16T19:48:11.623701Z",
     "start_time": "2023-10-16T19:48:11.539265Z"
    }
   },
   "id": "512f1d9f170944f5"
  },
  {
   "cell_type": "code",
   "execution_count": 129,
   "outputs": [
    {
     "data": {
      "text/plain": "<Axes: xlabel='ecpm'>"
     },
     "execution_count": 129,
     "metadata": {},
     "output_type": "execute_result"
    },
    {
     "data": {
      "text/plain": "<Figure size 640x480 with 1 Axes>",
      "image/png": "[encoded data removed]"
     },
     "metadata": {},
     "output_type": "display_data"
    }
   ],
   "source": [
    "sns.violinplot(x=df[df['ecpm']<=150][\"ecpm\"])"
   ],
   "metadata": {
    "collapsed": false,
    "ExecuteTime": {
     "end_time": "2023-10-16T19:46:30.939785Z",
     "start_time": "2023-10-16T19:46:27.787626Z"
    }
   },
   "id": "edc2203c48164ff2"
  },
  {
   "cell_type": "code",
   "execution_count": 211,
   "outputs": [
    {
     "data": {
      "text/plain": "<Axes: xlabel='ecpm', ylabel='Count'>"
     },
     "execution_count": 211,
     "metadata": {},
     "output_type": "execute_result"
    },
    {
     "data": {
      "text/plain": "<Figure size 1170x827 with 1 Axes>",
      "image/png": "[encoded data removed]"
     },
     "metadata": {},
     "output_type": "display_data"
    }
   ],
   "source": [
    "sns.histplot(df[df['ecpm']<=150]['ecpm'],kde=True,color='purple',bins=30)"
   ],
   "metadata": {
    "collapsed": false,
    "ExecuteTime": {
     "end_time": "2023-10-16T22:07:40.358267Z",
     "start_time": "2023-10-16T22:07:34.010933Z"
    }
   },
   "id": "6b3fde2563043d3c"
  },
  {
   "cell_type": "code",
   "execution_count": 194,
   "outputs": [
    {
     "data": {
      "text/plain": "<Axes: xlabel='ecpm', ylabel='partner'>"
     },
     "execution_count": 194,
     "metadata": {},
     "output_type": "execute_result"
    },
    {
     "data": {
      "text/plain": "<Figure size 1170x827 with 1 Axes>",
      "image/png": "[encoded data removed]"
     },
     "metadata": {},
     "output_type": "display_data"
    }
   ],
   "source": [
    "sns.violinplot(data=df, x=df[df['ecpm']<=150][\"ecpm\"], y=\"partner\", height=8.27, aspect=11.7/8.27)"
   ],
   "metadata": {
    "collapsed": false,
    "ExecuteTime": {
     "end_time": "2023-10-16T21:54:12.452363Z",
     "start_time": "2023-10-16T21:54:03.676479Z"
    }
   },
   "id": "5bb65fac69d69f7b"
  },
  {
   "cell_type": "code",
   "execution_count": 152,
   "outputs": [
    {
     "data": {
      "text/plain": "          partner  n_instances  min_price  mean_price   max_price  target_1  \\\n0             APS          555   0.047500    3.643293   34.200000       552   \n1        AdColony       211940   3.000000   21.550200   35.000000      2029   \n2           AdMob       423601   0.784000   39.447021  107.800000      4331   \n3          AdView         2164  12.000000   12.000000   12.000000         0   \n4        AppLovin       724091   2.210000   39.553510   86.000000     14725   \n5      Chartboost       437368   1.000000   39.745099  100.000000      2695   \n6             DFP       181693   2.140000   30.104907   83.090000       851   \n7     FacebookS2S         1005   3.018059   34.831765  750.000000       873   \n8           Fyber       198182   1.980000   33.221848   73.260000       806   \n9       GoogleS2S         6446   1.162232   15.107484  642.409600      6403   \n10         HyprMX        45659   2.000000    7.442041    9.790000      1846   \n11      InMobiS2S           22   0.649130    5.920467   22.040360        22   \n12     IronSource       466598   4.000000   37.257878   83.000000      2757   \n13  IronSourceS2S         7113   0.426401   24.296917  328.168000      4518   \n14         Makroo       245980   1.000000   34.956301   95.000000      2682   \n15      Mintegral       299305   0.960000   33.598136   81.600000      3123   \n16   MintegralS2S          116   2.173402   16.940493  304.041132        80   \n17          Ogury        49648   5.022000   10.146349   14.489400      2089   \n18       ReklamUp       272501   1.000000   29.742238   80.000000      5283   \n19          Stack         3287   0.158394   29.932251  350.000000      3184   \n20          Unity       729140   1.000000   39.437856   81.000000     25357   \n21         Vungle      1184172   1.900000   39.223320   80.750000     28596   \n22      VungleS2S        26036   0.952784   30.713443  197.335653     14586   \n\n    fill_rate  \n0    0.994595  \n1    0.009573  \n2    0.010224  \n3    0.000000  \n4    0.020336  \n5    0.006162  \n6    0.004684  \n7    0.868657  \n8    0.004067  \n9    0.993329  \n10   0.040430  \n11   1.000000  \n12   0.005909  \n13   0.635175  \n14   0.010903  \n15   0.010434  \n16   0.689655  \n17   0.042076  \n18   0.019387  \n19   0.968664  \n20   0.034777  \n21   0.024149  \n22   0.560224  ",
      "text/html": "<div>\n<style scoped>\n    .dataframe tbody tr th:only-of-type {\n        vertical-align: middle;\n    }\n\n    .dataframe tbody tr th {\n        vertical-align: top;\n    }\n\n    .dataframe thead th {\n        text-align: right;\n    }\n</style>\n<table border=\"1\" class=\"dataframe\">\n  <thead>\n    <tr style=\"text-align: right;\">\n      <th></th>\n      <th>partner</th>\n      <th>n_instances</th>\n      <th>min_price</th>\n      <th>mean_price</th>\n      <th>max_price</th>\n      <th>target_1</th>\n      <th>fill_rate</th>\n    </tr>\n  </thead>\n  <tbody>\n    <tr>\n      <th>0</th>\n      <td>APS</td>\n      <td>555</td>\n      <td>0.047500</td>\n      <td>3.643293</td>\n      <td>34.200000</td>\n      <td>552</td>\n      <td>0.994595</td>\n    </tr>\n    <tr>\n      <th>1</th>\n      <td>AdColony</td>\n      <td>211940</td>\n      <td>3.000000</td>\n      <td>21.550200</td>\n      <td>35.000000</td>\n      <td>2029</td>\n      <td>0.009573</td>\n    </tr>\n    <tr>\n      <th>2</th>\n      <td>AdMob</td>\n      <td>423601</td>\n      <td>0.784000</td>\n      <td>39.447021</td>\n      <td>107.800000</td>\n      <td>4331</td>\n      <td>0.010224</td>\n    </tr>\n    <tr>\n      <th>3</th>\n      <td>AdView</td>\n      <td>2164</td>\n      <td>12.000000</td>\n      <td>12.000000</td>\n      <td>12.000000</td>\n      <td>0</td>\n      <td>0.000000</td>\n    </tr>\n    <tr>\n      <th>4</th>\n      <td>AppLovin</td>\n      <td>724091</td>\n      <td>2.210000</td>\n      <td>39.553510</td>\n      <td>86.000000</td>\n      <td>14725</td>\n      <td>0.020336</td>\n    </tr>\n    <tr>\n      <th>5</th>\n      <td>Chartboost</td>\n      <td>437368</td>\n      <td>1.000000</td>\n      <td>39.745099</td>\n      <td>100.000000</td>\n      <td>2695</td>\n      <td>0.006162</td>\n    </tr>\n    <tr>\n      <th>6</th>\n      <td>DFP</td>\n      <td>181693</td>\n      <td>2.140000</td>\n      <td>30.104907</td>\n      <td>83.090000</td>\n      <td>851</td>\n      <td>0.004684</td>\n    </tr>\n    <tr>\n      <th>7</th>\n      <td>FacebookS2S</td>\n      <td>1005</td>\n      <td>3.018059</td>\n      <td>34.831765</td>\n      <td>750.000000</td>\n      <td>873</td>\n      <td>0.868657</td>\n    </tr>\n    <tr>\n      <th>8</th>\n      <td>Fyber</td>\n      <td>198182</td>\n      <td>1.980000</td>\n      <td>33.221848</td>\n      <td>73.260000</td>\n      <td>806</td>\n      <td>0.004067</td>\n    </tr>\n    <tr>\n      <th>9</th>\n      <td>GoogleS2S</td>\n      <td>6446</td>\n      <td>1.162232</td>\n      <td>15.107484</td>\n      <td>642.409600</td>\n      <td>6403</td>\n      <td>0.993329</td>\n    </tr>\n    <tr>\n      <th>10</th>\n      <td>HyprMX</td>\n      <td>45659</td>\n      <td>2.000000</td>\n      <td>7.442041</td>\n      <td>9.790000</td>\n      <td>1846</td>\n      <td>0.040430</td>\n    </tr>\n    <tr>\n      <th>11</th>\n      <td>InMobiS2S</td>\n      <td>22</td>\n      <td>0.649130</td>\n      <td>5.920467</td>\n      <td>22.040360</td>\n      <td>22</td>\n      <td>1.000000</td>\n    </tr>\n    <tr>\n      <th>12</th>\n      <td>IronSource</td>\n      <td>466598</td>\n      <td>4.000000</td>\n      <td>37.257878</td>\n      <td>83.000000</td>\n      <td>2757</td>\n      <td>0.005909</td>\n    </tr>\n    <tr>\n      <th>13</th>\n      <td>IronSourceS2S</td>\n      <td>7113</td>\n      <td>0.426401</td>\n      <td>24.296917</td>\n      <td>328.168000</td>\n      <td>4518</td>\n      <td>0.635175</td>\n    </tr>\n    <tr>\n      <th>14</th>\n      <td>Makroo</td>\n      <td>245980</td>\n      <td>1.000000</td>\n      <td>34.956301</td>\n      <td>95.000000</td>\n      <td>2682</td>\n      <td>0.010903</td>\n    </tr>\n    <tr>\n      <th>15</th>\n      <td>Mintegral</td>\n      <td>299305</td>\n      <td>0.960000</td>\n      <td>33.598136</td>\n      <td>81.600000</td>\n      <td>3123</td>\n      <td>0.010434</td>\n    </tr>\n    <tr>\n      <th>16</th>\n      <td>MintegralS2S</td>\n      <td>116</td>\n      <td>2.173402</td>\n      <td>16.940493</td>\n      <td>304.041132</td>\n      <td>80</td>\n      <td>0.689655</td>\n    </tr>\n    <tr>\n      <th>17</th>\n      <td>Ogury</td>\n      <td>49648</td>\n      <td>5.022000</td>\n      <td>10.146349</td>\n      <td>14.489400</td>\n      <td>2089</td>\n      <td>0.042076</td>\n    </tr>\n    <tr>\n      <th>18</th>\n      <td>ReklamUp</td>\n      <td>272501</td>\n      <td>1.000000</td>\n      <td>29.742238</td>\n      <td>80.000000</td>\n      <td>5283</td>\n      <td>0.019387</td>\n    </tr>\n    <tr>\n      <th>19</th>\n      <td>Stack</td>\n      <td>3287</td>\n      <td>0.158394</td>\n      <td>29.932251</td>\n      <td>350.000000</td>\n      <td>3184</td>\n      <td>0.968664</td>\n    </tr>\n    <tr>\n      <th>20</th>\n      <td>Unity</td>\n      <td>729140</td>\n      <td>1.000000</td>\n      <td>39.437856</td>\n      <td>81.000000</td>\n      <td>25357</td>\n      <td>0.034777</td>\n    </tr>\n    <tr>\n      <th>21</th>\n      <td>Vungle</td>\n      <td>1184172</td>\n      <td>1.900000</td>\n      <td>39.223320</td>\n      <td>80.750000</td>\n      <td>28596</td>\n      <td>0.024149</td>\n    </tr>\n    <tr>\n      <th>22</th>\n      <td>VungleS2S</td>\n      <td>26036</td>\n      <td>0.952784</td>\n      <td>30.713443</td>\n      <td>197.335653</td>\n      <td>14586</td>\n      <td>0.560224</td>\n    </tr>\n  </tbody>\n</table>\n</div>"
     },
     "execution_count": 152,
     "metadata": {},
     "output_type": "execute_result"
    }
   ],
   "source": [
    "agg_funcs = {\n",
    "    'event_id': ['count'],\n",
    "    'ecpm': ['min', 'mean', 'max'],\n",
    "    'target': lambda x: (x == 1).sum()\n",
    "}\n",
    "\n",
    "\n",
    "partners = df.groupby('partner').agg(agg_funcs).reset_index()\n",
    "partners.columns = ['partner', 'n_instances', 'min_price', 'mean_price', 'max_price', 'target_1']\n",
    "partners['fill_rate'] = (partners['target_1']/partners['n_instances']).astype(float)\n",
    "partners"
   ],
   "metadata": {
    "collapsed": false,
    "ExecuteTime": {
     "end_time": "2023-10-16T19:58:05.864048Z",
     "start_time": "2023-10-16T19:58:05.279695Z"
    }
   },
   "id": "d56b11f778fb9db9"
  },
  {
   "cell_type": "code",
   "execution_count": 155,
   "outputs": [
    {
     "data": {
      "text/plain": "['APS',\n 'FacebookS2S',\n 'GoogleS2S',\n 'InMobiS2S',\n 'IronSourceS2S',\n 'MintegralS2S',\n 'Stack',\n 'VungleS2S']"
     },
     "execution_count": 155,
     "metadata": {},
     "output_type": "execute_result"
    }
   ],
   "source": [
    "high_partners = partners[partners['fill_rate']>=0.5].partner.to_list()\n",
    "high_partners"
   ],
   "metadata": {
    "collapsed": false,
    "ExecuteTime": {
     "end_time": "2023-10-16T19:59:28.117586Z",
     "start_time": "2023-10-16T19:59:28.093418Z"
    }
   },
   "id": "bbb4d21fb8db6aea"
  },
  {
   "cell_type": "code",
   "execution_count": 159,
   "outputs": [
    {
     "name": "stdout",
     "output_type": "stream",
     "text": [
      "With all partners\n",
      "target\n",
      "0    5389234\n",
      "1     127388\n",
      "Name: count, dtype: int64\n",
      "target\n",
      "0    0.976908\n",
      "1    0.023092\n",
      "Name: proportion, dtype: float64\n"
     ]
    }
   ],
   "source": [
    "print('With all partners')\n",
    "print(df.target.value_counts())\n",
    "print(df.target.value_counts(normalize=True))"
   ],
   "metadata": {
    "collapsed": false,
    "ExecuteTime": {
     "end_time": "2023-10-16T20:00:14.391582Z",
     "start_time": "2023-10-16T20:00:14.369203Z"
    }
   },
   "id": "365ff9ffc69d963f"
  },
  {
   "cell_type": "code",
   "execution_count": 163,
   "outputs": [
    {
     "name": "stdout",
     "output_type": "stream",
     "text": [
      "Without \"high\" partners\n",
      "target\n",
      "0    5374872\n",
      "1      97170\n",
      "Name: count, dtype: int64\n",
      "target\n",
      "0    0.982242\n",
      "1    0.017758\n",
      "Name: proportion, dtype: float64\n"
     ]
    }
   ],
   "source": [
    "print('Without \"high\" partners')\n",
    "print(df[~df['partner'].isin(high_partners)].target.value_counts())\n",
    "print(df[~df['partner'].isin(high_partners)].target.value_counts(normalize=True))\n"
   ],
   "metadata": {
    "collapsed": false,
    "ExecuteTime": {
     "end_time": "2023-10-16T20:02:16.246566Z",
     "start_time": "2023-10-16T20:02:14.645294Z"
    }
   },
   "id": "25111a2c8ef013f2"
  },
  {
   "cell_type": "code",
   "execution_count": 164,
   "outputs": [],
   "source": [
    "dfh = df[~df['partner'].isin(high_partners)]"
   ],
   "metadata": {
    "collapsed": false,
    "ExecuteTime": {
     "end_time": "2023-10-16T20:03:01.799530Z",
     "start_time": "2023-10-16T20:03:01.292656Z"
    }
   },
   "id": "2e15e0f2da451767"
  },
  {
   "cell_type": "code",
   "execution_count": 200,
   "outputs": [
    {
     "data": {
      "text/plain": "lifecycle_counter\n1     2278565\n2      839679\n3      528029\n4      382459\n5      278605\n       ...   \n90         62\n91         61\n79         48\n89         45\n93         11\nName: count, Length: 93, dtype: int64"
     },
     "execution_count": 200,
     "metadata": {},
     "output_type": "execute_result"
    }
   ],
   "source": [
    "dfh.lifecycle_counter.value_counts()"
   ],
   "metadata": {
    "collapsed": false,
    "ExecuteTime": {
     "end_time": "2023-10-16T21:57:52.990913Z",
     "start_time": "2023-10-16T21:57:52.980630Z"
    }
   },
   "id": "9153f00cc0bf9df2"
  },
  {
   "cell_type": "code",
   "execution_count": 197,
   "outputs": [
    {
     "data": {
      "text/plain": "                               event_id                  event_time  \\\n0  0f46e96e-927d-4dbb-b3ed-ec369b590b6e  2023-09-25 01:01:40.371000   \n1  0f46e96e-927d-4dbb-b3ed-ec369b590b6e  2023-09-25 01:01:40.371000   \n2  0f46e96e-927d-4dbb-b3ed-ec369b590b6e  2023-09-25 01:01:40.371000   \n3  0f46e96e-927d-4dbb-b3ed-ec369b590b6e  2023-09-25 01:01:40.371000   \n4  0f46e96e-927d-4dbb-b3ed-ec369b590b6e  2023-09-25 01:01:40.371000   \n\n       app_id platform country     user_id adtype connection_type  \\\n0  1667250886      ios      US  1470652441    itt            wifi   \n1  1667250886      ios      US  1470652441    itt            wifi   \n2  1667250886      ios      US  1470652441    itt            wifi   \n3  1667250886      ios      US  1470652441    itt            wifi   \n4  1667250886      ios      US  1470652441    itt            wifi   \n\n                             session_id  waterfall_id  ...  device_model  \\\n0  2019e503-aa93-4981-a227-97df8aba5244          2196  ...            14   \n1  2019e503-aa93-4981-a227-97df8aba5244          2196  ...            14   \n2  2019e503-aa93-4981-a227-97df8aba5244          2196  ...            14   \n3  2019e503-aa93-4981-a227-97df8aba5244          2196  ...            14   \n4  2019e503-aa93-4981-a227-97df8aba5244          2196  ...            14   \n\n  device_w  device_h  device_memory  instance_id     partner    ecpm latency  \\\n0     1284      2778         5668.0         4717       AdMob  107.80    1088   \n1     1284      2778         5668.0         4715  Chartboost  100.00      60   \n2     1284      2778         5668.0         4156    AppLovin   86.00     914   \n3     1284      2778         5668.0         4723         DFP   83.09     611   \n4     1284      2778         5668.0         4724  IronSource   83.00     715   \n\n   target  auction_id  \n0       0         NaN  \n1       0         NaN  \n2       0         NaN  \n3       0         NaN  \n4       0         NaN  \n\n[5 rows x 22 columns]",
      "text/html": "<div>\n<style scoped>\n    .dataframe tbody tr th:only-of-type {\n        vertical-align: middle;\n    }\n\n    .dataframe tbody tr th {\n        vertical-align: top;\n    }\n\n    .dataframe thead th {\n        text-align: right;\n    }\n</style>\n<table border=\"1\" class=\"dataframe\">\n  <thead>\n    <tr style=\"text-align: right;\">\n      <th></th>\n      <th>event_id</th>\n      <th>event_time</th>\n      <th>app_id</th>\n      <th>platform</th>\n      <th>country</th>\n      <th>user_id</th>\n      <th>adtype</th>\n      <th>connection_type</th>\n      <th>session_id</th>\n      <th>waterfall_id</th>\n      <th>...</th>\n      <th>device_model</th>\n      <th>device_w</th>\n      <th>device_h</th>\n      <th>device_memory</th>\n      <th>instance_id</th>\n      <th>partner</th>\n      <th>ecpm</th>\n      <th>latency</th>\n      <th>target</th>\n      <th>auction_id</th>\n    </tr>\n  </thead>\n  <tbody>\n    <tr>\n      <th>0</th>\n      <td>0f46e96e-927d-4dbb-b3ed-ec369b590b6e</td>\n      <td>2023-09-25 01:01:40.371000</td>\n      <td>1667250886</td>\n      <td>ios</td>\n      <td>US</td>\n      <td>1470652441</td>\n      <td>itt</td>\n      <td>wifi</td>\n      <td>2019e503-aa93-4981-a227-97df8aba5244</td>\n      <td>2196</td>\n      <td>...</td>\n      <td>14</td>\n      <td>1284</td>\n      <td>2778</td>\n      <td>5668.0</td>\n      <td>4717</td>\n      <td>AdMob</td>\n      <td>107.80</td>\n      <td>1088</td>\n      <td>0</td>\n      <td>NaN</td>\n    </tr>\n    <tr>\n      <th>1</th>\n      <td>0f46e96e-927d-4dbb-b3ed-ec369b590b6e</td>\n      <td>2023-09-25 01:01:40.371000</td>\n      <td>1667250886</td>\n      <td>ios</td>\n      <td>US</td>\n      <td>1470652441</td>\n      <td>itt</td>\n      <td>wifi</td>\n      <td>2019e503-aa93-4981-a227-97df8aba5244</td>\n      <td>2196</td>\n      <td>...</td>\n      <td>14</td>\n      <td>1284</td>\n      <td>2778</td>\n      <td>5668.0</td>\n      <td>4715</td>\n      <td>Chartboost</td>\n      <td>100.00</td>\n      <td>60</td>\n      <td>0</td>\n      <td>NaN</td>\n    </tr>\n    <tr>\n      <th>2</th>\n      <td>0f46e96e-927d-4dbb-b3ed-ec369b590b6e</td>\n      <td>2023-09-25 01:01:40.371000</td>\n      <td>1667250886</td>\n      <td>ios</td>\n      <td>US</td>\n      <td>1470652441</td>\n      <td>itt</td>\n      <td>wifi</td>\n      <td>2019e503-aa93-4981-a227-97df8aba5244</td>\n      <td>2196</td>\n      <td>...</td>\n      <td>14</td>\n      <td>1284</td>\n      <td>2778</td>\n      <td>5668.0</td>\n      <td>4156</td>\n      <td>AppLovin</td>\n      <td>86.00</td>\n      <td>914</td>\n      <td>0</td>\n      <td>NaN</td>\n    </tr>\n    <tr>\n      <th>3</th>\n      <td>0f46e96e-927d-4dbb-b3ed-ec369b590b6e</td>\n      <td>2023-09-25 01:01:40.371000</td>\n      <td>1667250886</td>\n      <td>ios</td>\n      <td>US</td>\n      <td>1470652441</td>\n      <td>itt</td>\n      <td>wifi</td>\n      <td>2019e503-aa93-4981-a227-97df8aba5244</td>\n      <td>2196</td>\n      <td>...</td>\n      <td>14</td>\n      <td>1284</td>\n      <td>2778</td>\n      <td>5668.0</td>\n      <td>4723</td>\n      <td>DFP</td>\n      <td>83.09</td>\n      <td>611</td>\n      <td>0</td>\n      <td>NaN</td>\n    </tr>\n    <tr>\n      <th>4</th>\n      <td>0f46e96e-927d-4dbb-b3ed-ec369b590b6e</td>\n      <td>2023-09-25 01:01:40.371000</td>\n      <td>1667250886</td>\n      <td>ios</td>\n      <td>US</td>\n      <td>1470652441</td>\n      <td>itt</td>\n      <td>wifi</td>\n      <td>2019e503-aa93-4981-a227-97df8aba5244</td>\n      <td>2196</td>\n      <td>...</td>\n      <td>14</td>\n      <td>1284</td>\n      <td>2778</td>\n      <td>5668.0</td>\n      <td>4724</td>\n      <td>IronSource</td>\n      <td>83.00</td>\n      <td>715</td>\n      <td>0</td>\n      <td>NaN</td>\n    </tr>\n  </tbody>\n</table>\n<p>5 rows × 22 columns</p>\n</div>"
     },
     "execution_count": 197,
     "metadata": {},
     "output_type": "execute_result"
    }
   ],
   "source": [
    "dfh.head()"
   ],
   "metadata": {
    "collapsed": false,
    "ExecuteTime": {
     "end_time": "2023-10-16T21:56:47.874954Z",
     "start_time": "2023-10-16T21:56:47.858110Z"
    }
   },
   "id": "e88091954418478c"
  },
  {
   "cell_type": "code",
   "execution_count": 201,
   "outputs": [],
   "source": [
    "dfinal = dfh[['connection_type', 'device_type', 'device_model', 'device_w', 'device_h', 'device_memory', 'ecpm', 'target']]"
   ],
   "metadata": {
    "collapsed": false,
    "ExecuteTime": {
     "end_time": "2023-10-16T22:00:21.144471Z",
     "start_time": "2023-10-16T22:00:21.011367Z"
    }
   },
   "id": "561e57d835e63ee8"
  },
  {
   "cell_type": "code",
   "execution_count": 202,
   "outputs": [
    {
     "data": {
      "text/plain": "connection_type     object\ndevice_type         object\ndevice_model         int64\ndevice_w             int64\ndevice_h             int64\ndevice_memory      float64\necpm               float64\ntarget               int64\ndtype: object"
     },
     "execution_count": 202,
     "metadata": {},
     "output_type": "execute_result"
    }
   ],
   "source": [
    "dfinal.dtypes"
   ],
   "metadata": {
    "collapsed": false,
    "ExecuteTime": {
     "end_time": "2023-10-16T22:00:30.769978Z",
     "start_time": "2023-10-16T22:00:30.743540Z"
    }
   },
   "id": "eb92d7de98a6e549"
  },
  {
   "cell_type": "code",
   "execution_count": 203,
   "outputs": [],
   "source": [
    "#Categorical data\n",
    "categorical_cols = ['connection_type', 'device_type']\n",
    "dfcat = pd.get_dummies(dfinal, columns = categorical_cols, dtype=int)"
   ],
   "metadata": {
    "collapsed": false,
    "ExecuteTime": {
     "end_time": "2023-10-16T22:00:42.062952Z",
     "start_time": "2023-10-16T22:00:41.489267Z"
    }
   },
   "id": "c326cb7b233b5f44"
  },
  {
   "cell_type": "code",
   "execution_count": 212,
   "outputs": [
    {
     "data": {
      "text/plain": "['device_model',\n 'device_w',\n 'device_h',\n 'device_memory',\n 'ecpm',\n 'target',\n 'connection_type_mobile_2g',\n 'connection_type_mobile_3g',\n 'connection_type_mobile_4g',\n 'connection_type_mobile_5g',\n 'connection_type_wifi',\n 'device_type_phone',\n 'device_type_tablet']"
     },
     "execution_count": 212,
     "metadata": {},
     "output_type": "execute_result"
    }
   ],
   "source": [
    "dfcat.columns.tolist()"
   ],
   "metadata": {
    "collapsed": false,
    "ExecuteTime": {
     "end_time": "2023-10-16T22:10:26.055245Z",
     "start_time": "2023-10-16T22:10:26.038124Z"
    }
   },
   "id": "fccdf5ca29cc5522"
  },
  {
   "cell_type": "code",
   "execution_count": 213,
   "outputs": [
    {
     "data": {
      "text/plain": "                             target\ndevice_model               0.012789\ndevice_w                   0.000971\ndevice_h                   0.010560\ndevice_memory              0.014217\necpm                       0.056237\ntarget                     1.000000\nconnection_type_mobile_2g  0.000010\nconnection_type_mobile_3g  0.000239\nconnection_type_mobile_4g  0.012614\nconnection_type_mobile_5g  0.014742\nconnection_type_wifi       0.020452\ndevice_type_phone          0.008731\ndevice_type_tablet         0.008731",
      "text/html": "<div>\n<style scoped>\n    .dataframe tbody tr th:only-of-type {\n        vertical-align: middle;\n    }\n\n    .dataframe tbody tr th {\n        vertical-align: top;\n    }\n\n    .dataframe thead th {\n        text-align: right;\n    }\n</style>\n<table border=\"1\" class=\"dataframe\">\n  <thead>\n    <tr style=\"text-align: right;\">\n      <th></th>\n      <th>target</th>\n    </tr>\n  </thead>\n  <tbody>\n    <tr>\n      <th>device_model</th>\n      <td>0.012789</td>\n    </tr>\n    <tr>\n      <th>device_w</th>\n      <td>0.000971</td>\n    </tr>\n    <tr>\n      <th>device_h</th>\n      <td>0.010560</td>\n    </tr>\n    <tr>\n      <th>device_memory</th>\n      <td>0.014217</td>\n    </tr>\n    <tr>\n      <th>ecpm</th>\n      <td>0.056237</td>\n    </tr>\n    <tr>\n      <th>target</th>\n      <td>1.000000</td>\n    </tr>\n    <tr>\n      <th>connection_type_mobile_2g</th>\n      <td>0.000010</td>\n    </tr>\n    <tr>\n      <th>connection_type_mobile_3g</th>\n      <td>0.000239</td>\n    </tr>\n    <tr>\n      <th>connection_type_mobile_4g</th>\n      <td>0.012614</td>\n    </tr>\n    <tr>\n      <th>connection_type_mobile_5g</th>\n      <td>0.014742</td>\n    </tr>\n    <tr>\n      <th>connection_type_wifi</th>\n      <td>0.020452</td>\n    </tr>\n    <tr>\n      <th>device_type_phone</th>\n      <td>0.008731</td>\n    </tr>\n    <tr>\n      <th>device_type_tablet</th>\n      <td>0.008731</td>\n    </tr>\n  </tbody>\n</table>\n</div>"
     },
     "execution_count": 213,
     "metadata": {},
     "output_type": "execute_result"
    }
   ],
   "source": [
    "abs(pd.DataFrame(dfcat.corr().target))"
   ],
   "metadata": {
    "collapsed": false,
    "ExecuteTime": {
     "end_time": "2023-10-16T22:10:30.666393Z",
     "start_time": "2023-10-16T22:10:29.231761Z"
    }
   },
   "id": "de4e776aae2c978b"
  },
  {
   "cell_type": "code",
   "execution_count": null,
   "outputs": [],
   "source": [],
   "metadata": {
    "collapsed": false
   },
   "id": "300787b17c187057"
  },
  {
   "cell_type": "code",
   "execution_count": null,
   "outputs": [],
   "source": [],
   "metadata": {
    "collapsed": false
   },
   "id": "d18935b751a4edcc"
  },
  {
   "cell_type": "code",
   "execution_count": null,
   "outputs": [],
   "source": [],
   "metadata": {
    "collapsed": false
   },
   "id": "ed61d29cbca1a714"
  },
  {
   "cell_type": "code",
   "execution_count": 255,
   "outputs": [
    {
     "name": "stdout",
     "output_type": "stream",
     "text": [
      "Found existing installation: scikit-learn 1.2.2\r\n",
      "Uninstalling scikit-learn-1.2.2:\r\n",
      "  Would remove:\r\n",
      "    /Users/gabrieltorga/anaconda3/lib/python3.11/site-packages/scikit_learn-1.2.2.dist-info/*\r\n",
      "    /Users/gabrieltorga/anaconda3/lib/python3.11/site-packages/sklearn/*\r\n",
      "Proceed (Y/n)? ^C\r\n",
      "\u001B[31mERROR: Operation cancelled by user\u001B[0m\u001B[31m\r\n",
      "\u001B[0mRequirement already satisfied: scikit-learn==1.2.2 in /Users/gabrieltorga/anaconda3/lib/python3.11/site-packages (1.2.2)\r\n",
      "Requirement already satisfied: numpy>=1.17.3 in /Users/gabrieltorga/anaconda3/lib/python3.11/site-packages (from scikit-learn==1.2.2) (1.24.3)\r\n",
      "Requirement already satisfied: scipy>=1.3.2 in /Users/gabrieltorga/anaconda3/lib/python3.11/site-packages (from scikit-learn==1.2.2) (1.11.1)\r\n",
      "Requirement already satisfied: joblib>=1.1.1 in /Users/gabrieltorga/anaconda3/lib/python3.11/site-packages (from scikit-learn==1.2.2) (1.2.0)\r\n",
      "Requirement already satisfied: threadpoolctl>=2.0.0 in /Users/gabrieltorga/anaconda3/lib/python3.11/site-packages (from scikit-learn==1.2.2) (2.2.0)\r\n",
      "^C\r\n",
      "\u001B[31mERROR: Operation cancelled by user\u001B[0m\u001B[31m\r\n",
      "\u001B[0m"
     ]
    }
   ],
   "source": [],
   "metadata": {
    "collapsed": false,
    "ExecuteTime": {
     "end_time": "2023-10-16T22:27:54.247375Z",
     "start_time": "2023-10-16T22:26:51.722009Z"
    }
   },
   "id": "8451130e8f93e7ac"
  },
  {
   "cell_type": "code",
   "execution_count": 251,
   "outputs": [
    {
     "ename": "ImportError",
     "evalue": "cannot import name '_MissingValues' from 'sklearn.utils._param_validation' (/Users/gabrieltorga/anaconda3/lib/python3.11/site-packages/sklearn/utils/_param_validation.py)",
     "output_type": "error",
     "traceback": [
      "\u001B[0;31m---------------------------------------------------------------------------\u001B[0m",
      "\u001B[0;31mImportError\u001B[0m                               Traceback (most recent call last)",
      "Cell \u001B[0;32mIn[251], line 8\u001B[0m\n\u001B[1;32m      6\u001B[0m \u001B[38;5;28;01mfrom\u001B[39;00m \u001B[38;5;21;01msklearn\u001B[39;00m\u001B[38;5;21;01m.\u001B[39;00m\u001B[38;5;21;01mmetrics\u001B[39;00m \u001B[38;5;28;01mimport\u001B[39;00m confusion_matrix\n\u001B[1;32m      7\u001B[0m \u001B[38;5;28;01mfrom\u001B[39;00m \u001B[38;5;21;01msklearn\u001B[39;00m\u001B[38;5;21;01m.\u001B[39;00m\u001B[38;5;21;01mmetrics\u001B[39;00m \u001B[38;5;28;01mimport\u001B[39;00m classification_report\n\u001B[0;32m----> 8\u001B[0m \u001B[38;5;28;01mfrom\u001B[39;00m \u001B[38;5;21;01mimblearn\u001B[39;00m\u001B[38;5;21;01m.\u001B[39;00m\u001B[38;5;21;01mover_sampling\u001B[39;00m \u001B[38;5;28;01mimport\u001B[39;00m SMOTE\n",
      "File \u001B[0;32m~/anaconda3/lib/python3.11/site-packages/imblearn/__init__.py:52\u001B[0m\n\u001B[1;32m     48\u001B[0m     sys\u001B[38;5;241m.\u001B[39mstderr\u001B[38;5;241m.\u001B[39mwrite(\u001B[38;5;124m\"\u001B[39m\u001B[38;5;124mPartial import of imblearn during the build process.\u001B[39m\u001B[38;5;130;01m\\n\u001B[39;00m\u001B[38;5;124m\"\u001B[39m)\n\u001B[1;32m     49\u001B[0m     \u001B[38;5;66;03m# We are not importing the rest of scikit-learn during the build\u001B[39;00m\n\u001B[1;32m     50\u001B[0m     \u001B[38;5;66;03m# process, as it may not be compiled yet\u001B[39;00m\n\u001B[1;32m     51\u001B[0m \u001B[38;5;28;01melse\u001B[39;00m:\n\u001B[0;32m---> 52\u001B[0m     \u001B[38;5;28;01mfrom\u001B[39;00m \u001B[38;5;21;01m.\u001B[39;00m \u001B[38;5;28;01mimport\u001B[39;00m (\n\u001B[1;32m     53\u001B[0m         combine,\n\u001B[1;32m     54\u001B[0m         ensemble,\n\u001B[1;32m     55\u001B[0m         exceptions,\n\u001B[1;32m     56\u001B[0m         metrics,\n\u001B[1;32m     57\u001B[0m         over_sampling,\n\u001B[1;32m     58\u001B[0m         pipeline,\n\u001B[1;32m     59\u001B[0m         tensorflow,\n\u001B[1;32m     60\u001B[0m         under_sampling,\n\u001B[1;32m     61\u001B[0m         utils,\n\u001B[1;32m     62\u001B[0m     )\n\u001B[1;32m     63\u001B[0m     \u001B[38;5;28;01mfrom\u001B[39;00m \u001B[38;5;21;01m.\u001B[39;00m\u001B[38;5;21;01m_version\u001B[39;00m \u001B[38;5;28;01mimport\u001B[39;00m __version__\n\u001B[1;32m     64\u001B[0m     \u001B[38;5;28;01mfrom\u001B[39;00m \u001B[38;5;21;01m.\u001B[39;00m\u001B[38;5;21;01mbase\u001B[39;00m \u001B[38;5;28;01mimport\u001B[39;00m FunctionSampler\n",
      "File \u001B[0;32m~/anaconda3/lib/python3.11/site-packages/imblearn/combine/__init__.py:5\u001B[0m\n\u001B[1;32m      1\u001B[0m \u001B[38;5;124;03m\"\"\"The :mod:`imblearn.combine` provides methods which combine\u001B[39;00m\n\u001B[1;32m      2\u001B[0m \u001B[38;5;124;03mover-sampling and under-sampling.\u001B[39;00m\n\u001B[1;32m      3\u001B[0m \u001B[38;5;124;03m\"\"\"\u001B[39;00m\n\u001B[0;32m----> 5\u001B[0m \u001B[38;5;28;01mfrom\u001B[39;00m \u001B[38;5;21;01m.\u001B[39;00m\u001B[38;5;21;01m_smote_enn\u001B[39;00m \u001B[38;5;28;01mimport\u001B[39;00m SMOTEENN\n\u001B[1;32m      6\u001B[0m \u001B[38;5;28;01mfrom\u001B[39;00m \u001B[38;5;21;01m.\u001B[39;00m\u001B[38;5;21;01m_smote_tomek\u001B[39;00m \u001B[38;5;28;01mimport\u001B[39;00m SMOTETomek\n\u001B[1;32m      8\u001B[0m __all__ \u001B[38;5;241m=\u001B[39m [\u001B[38;5;124m\"\u001B[39m\u001B[38;5;124mSMOTEENN\u001B[39m\u001B[38;5;124m\"\u001B[39m, \u001B[38;5;124m\"\u001B[39m\u001B[38;5;124mSMOTETomek\u001B[39m\u001B[38;5;124m\"\u001B[39m]\n",
      "File \u001B[0;32m~/anaconda3/lib/python3.11/site-packages/imblearn/combine/_smote_enn.py:12\u001B[0m\n\u001B[1;32m      9\u001B[0m \u001B[38;5;28;01mfrom\u001B[39;00m \u001B[38;5;21;01msklearn\u001B[39;00m\u001B[38;5;21;01m.\u001B[39;00m\u001B[38;5;21;01mbase\u001B[39;00m \u001B[38;5;28;01mimport\u001B[39;00m clone\n\u001B[1;32m     10\u001B[0m \u001B[38;5;28;01mfrom\u001B[39;00m \u001B[38;5;21;01msklearn\u001B[39;00m\u001B[38;5;21;01m.\u001B[39;00m\u001B[38;5;21;01mutils\u001B[39;00m \u001B[38;5;28;01mimport\u001B[39;00m check_X_y\n\u001B[0;32m---> 12\u001B[0m \u001B[38;5;28;01mfrom\u001B[39;00m \u001B[38;5;21;01m.\u001B[39;00m\u001B[38;5;21;01m.\u001B[39;00m\u001B[38;5;21;01mbase\u001B[39;00m \u001B[38;5;28;01mimport\u001B[39;00m BaseSampler\n\u001B[1;32m     13\u001B[0m \u001B[38;5;28;01mfrom\u001B[39;00m \u001B[38;5;21;01m.\u001B[39;00m\u001B[38;5;21;01m.\u001B[39;00m\u001B[38;5;21;01mover_sampling\u001B[39;00m \u001B[38;5;28;01mimport\u001B[39;00m SMOTE\n\u001B[1;32m     14\u001B[0m \u001B[38;5;28;01mfrom\u001B[39;00m \u001B[38;5;21;01m.\u001B[39;00m\u001B[38;5;21;01m.\u001B[39;00m\u001B[38;5;21;01mover_sampling\u001B[39;00m\u001B[38;5;21;01m.\u001B[39;00m\u001B[38;5;21;01mbase\u001B[39;00m \u001B[38;5;28;01mimport\u001B[39;00m BaseOverSampler\n",
      "File \u001B[0;32m~/anaconda3/lib/python3.11/site-packages/imblearn/base.py:21\u001B[0m\n\u001B[1;32m     18\u001B[0m \u001B[38;5;28;01mfrom\u001B[39;00m \u001B[38;5;21;01msklearn\u001B[39;00m\u001B[38;5;21;01m.\u001B[39;00m\u001B[38;5;21;01mutils\u001B[39;00m\u001B[38;5;21;01m.\u001B[39;00m\u001B[38;5;21;01mmulticlass\u001B[39;00m \u001B[38;5;28;01mimport\u001B[39;00m check_classification_targets\n\u001B[1;32m     20\u001B[0m \u001B[38;5;28;01mfrom\u001B[39;00m \u001B[38;5;21;01m.\u001B[39;00m\u001B[38;5;21;01mutils\u001B[39;00m \u001B[38;5;28;01mimport\u001B[39;00m check_sampling_strategy, check_target_type\n\u001B[0;32m---> 21\u001B[0m \u001B[38;5;28;01mfrom\u001B[39;00m \u001B[38;5;21;01m.\u001B[39;00m\u001B[38;5;21;01mutils\u001B[39;00m\u001B[38;5;21;01m.\u001B[39;00m\u001B[38;5;21;01m_param_validation\u001B[39;00m \u001B[38;5;28;01mimport\u001B[39;00m validate_parameter_constraints\n\u001B[1;32m     22\u001B[0m \u001B[38;5;28;01mfrom\u001B[39;00m \u001B[38;5;21;01m.\u001B[39;00m\u001B[38;5;21;01mutils\u001B[39;00m\u001B[38;5;21;01m.\u001B[39;00m\u001B[38;5;21;01m_validation\u001B[39;00m \u001B[38;5;28;01mimport\u001B[39;00m ArraysTransformer\n\u001B[1;32m     25\u001B[0m \u001B[38;5;28;01mclass\u001B[39;00m \u001B[38;5;21;01mSamplerMixin\u001B[39;00m(BaseEstimator, metaclass\u001B[38;5;241m=\u001B[39mABCMeta):\n",
      "File \u001B[0;32m~/anaconda3/lib/python3.11/site-packages/imblearn/utils/_param_validation.py:908\u001B[0m\n\u001B[1;32m    906\u001B[0m \u001B[38;5;28;01mfrom\u001B[39;00m \u001B[38;5;21;01msklearn\u001B[39;00m\u001B[38;5;21;01m.\u001B[39;00m\u001B[38;5;21;01mutils\u001B[39;00m\u001B[38;5;21;01m.\u001B[39;00m\u001B[38;5;21;01m_param_validation\u001B[39;00m \u001B[38;5;28;01mimport\u001B[39;00m generate_valid_param  \u001B[38;5;66;03m# noqa\u001B[39;00m\n\u001B[1;32m    907\u001B[0m \u001B[38;5;28;01mfrom\u001B[39;00m \u001B[38;5;21;01msklearn\u001B[39;00m\u001B[38;5;21;01m.\u001B[39;00m\u001B[38;5;21;01mutils\u001B[39;00m\u001B[38;5;21;01m.\u001B[39;00m\u001B[38;5;21;01m_param_validation\u001B[39;00m \u001B[38;5;28;01mimport\u001B[39;00m validate_parameter_constraints  \u001B[38;5;66;03m# noqa\u001B[39;00m\n\u001B[0;32m--> 908\u001B[0m \u001B[38;5;28;01mfrom\u001B[39;00m \u001B[38;5;21;01msklearn\u001B[39;00m\u001B[38;5;21;01m.\u001B[39;00m\u001B[38;5;21;01mutils\u001B[39;00m\u001B[38;5;21;01m.\u001B[39;00m\u001B[38;5;21;01m_param_validation\u001B[39;00m \u001B[38;5;28;01mimport\u001B[39;00m (\n\u001B[1;32m    909\u001B[0m     HasMethods,\n\u001B[1;32m    910\u001B[0m     Hidden,\n\u001B[1;32m    911\u001B[0m     Interval,\n\u001B[1;32m    912\u001B[0m     Options,\n\u001B[1;32m    913\u001B[0m     StrOptions,\n\u001B[1;32m    914\u001B[0m     _ArrayLikes,\n\u001B[1;32m    915\u001B[0m     _Booleans,\n\u001B[1;32m    916\u001B[0m     _Callables,\n\u001B[1;32m    917\u001B[0m     _CVObjects,\n\u001B[1;32m    918\u001B[0m     _InstancesOf,\n\u001B[1;32m    919\u001B[0m     _IterablesNotString,\n\u001B[1;32m    920\u001B[0m     _MissingValues,\n\u001B[1;32m    921\u001B[0m     _NoneConstraint,\n\u001B[1;32m    922\u001B[0m     _PandasNAConstraint,\n\u001B[1;32m    923\u001B[0m     _RandomStates,\n\u001B[1;32m    924\u001B[0m     _SparseMatrices,\n\u001B[1;32m    925\u001B[0m     _VerboseHelper,\n\u001B[1;32m    926\u001B[0m     make_constraint,\n\u001B[1;32m    927\u001B[0m     validate_params,\n\u001B[1;32m    928\u001B[0m )\n",
      "\u001B[0;31mImportError\u001B[0m: cannot import name '_MissingValues' from 'sklearn.utils._param_validation' (/Users/gabrieltorga/anaconda3/lib/python3.11/site-packages/sklearn/utils/_param_validation.py)"
     ]
    }
   ],
   "source": [
    "from sklearn.model_selection import KFold, StratifiedKFold, cross_val_score\n",
    "from sklearn.linear_model import LogisticRegression\n",
    "from sklearn.model_selection import train_test_split\n",
    "\n",
    "from sklearn import metrics\n",
    "from sklearn.metrics import confusion_matrix\n",
    "from sklearn.metrics import classification_report"
   ],
   "metadata": {
    "collapsed": false,
    "ExecuteTime": {
     "end_time": "2023-10-16T22:25:29.267524Z",
     "start_time": "2023-10-16T22:25:29.216892Z"
    }
   },
   "id": "c8043fa305772781"
  },
  {
   "cell_type": "code",
   "execution_count": 215,
   "outputs": [],
   "source": [
    "X = dfcat.drop(['target'], axis=1)\n",
    "y = dfcat['target']"
   ],
   "metadata": {
    "collapsed": false,
    "ExecuteTime": {
     "end_time": "2023-10-16T22:10:39.608913Z",
     "start_time": "2023-10-16T22:10:39.607681Z"
    }
   },
   "id": "4452d8662e785635"
  },
  {
   "cell_type": "code",
   "execution_count": 217,
   "outputs": [
    {
     "data": {
      "text/plain": "   device_model  device_w  device_h  device_memory   ecpm  \\\n0            14      1284      2778         5668.0  107.8   \n1            14      1284      2778         5668.0  100.0   \n2            14      1284      2778         5668.0   86.0   \n\n   connection_type_mobile_2g  connection_type_mobile_3g  \\\n0                          0                          0   \n1                          0                          0   \n2                          0                          0   \n\n   connection_type_mobile_4g  connection_type_mobile_5g  connection_type_wifi  \\\n0                          0                          0                     1   \n1                          0                          0                     1   \n2                          0                          0                     1   \n\n   device_type_phone  device_type_tablet  \n0                  1                   0  \n1                  1                   0  \n2                  1                   0  ",
      "text/html": "<div>\n<style scoped>\n    .dataframe tbody tr th:only-of-type {\n        vertical-align: middle;\n    }\n\n    .dataframe tbody tr th {\n        vertical-align: top;\n    }\n\n    .dataframe thead th {\n        text-align: right;\n    }\n</style>\n<table border=\"1\" class=\"dataframe\">\n  <thead>\n    <tr style=\"text-align: right;\">\n      <th></th>\n      <th>device_model</th>\n      <th>device_w</th>\n      <th>device_h</th>\n      <th>device_memory</th>\n      <th>ecpm</th>\n      <th>connection_type_mobile_2g</th>\n      <th>connection_type_mobile_3g</th>\n      <th>connection_type_mobile_4g</th>\n      <th>connection_type_mobile_5g</th>\n      <th>connection_type_wifi</th>\n      <th>device_type_phone</th>\n      <th>device_type_tablet</th>\n    </tr>\n  </thead>\n  <tbody>\n    <tr>\n      <th>0</th>\n      <td>14</td>\n      <td>1284</td>\n      <td>2778</td>\n      <td>5668.0</td>\n      <td>107.8</td>\n      <td>0</td>\n      <td>0</td>\n      <td>0</td>\n      <td>0</td>\n      <td>1</td>\n      <td>1</td>\n      <td>0</td>\n    </tr>\n    <tr>\n      <th>1</th>\n      <td>14</td>\n      <td>1284</td>\n      <td>2778</td>\n      <td>5668.0</td>\n      <td>100.0</td>\n      <td>0</td>\n      <td>0</td>\n      <td>0</td>\n      <td>0</td>\n      <td>1</td>\n      <td>1</td>\n      <td>0</td>\n    </tr>\n    <tr>\n      <th>2</th>\n      <td>14</td>\n      <td>1284</td>\n      <td>2778</td>\n      <td>5668.0</td>\n      <td>86.0</td>\n      <td>0</td>\n      <td>0</td>\n      <td>0</td>\n      <td>0</td>\n      <td>1</td>\n      <td>1</td>\n      <td>0</td>\n    </tr>\n  </tbody>\n</table>\n</div>"
     },
     "execution_count": 217,
     "metadata": {},
     "output_type": "execute_result"
    }
   ],
   "source": [
    "X.head(3)"
   ],
   "metadata": {
    "collapsed": false,
    "ExecuteTime": {
     "end_time": "2023-10-16T22:10:48.791133Z",
     "start_time": "2023-10-16T22:10:48.762864Z"
    }
   },
   "id": "777df38516f45b12"
  },
  {
   "cell_type": "code",
   "execution_count": 218,
   "outputs": [
    {
     "data": {
      "text/plain": "0    0\n1    0\nName: target, dtype: int64"
     },
     "execution_count": 218,
     "metadata": {},
     "output_type": "execute_result"
    }
   ],
   "source": [
    "y.head(2)"
   ],
   "metadata": {
    "collapsed": false,
    "ExecuteTime": {
     "end_time": "2023-10-16T22:11:27.739954Z",
     "start_time": "2023-10-16T22:11:27.725770Z"
    }
   },
   "id": "28fcee72c0e7a87b"
  },
  {
   "cell_type": "code",
   "execution_count": 230,
   "outputs": [],
   "source": [
    "X_train, X_test, y_train, y_test = train_test_split(X, y, test_size=0.3,random_state=101)"
   ],
   "metadata": {
    "collapsed": false,
    "ExecuteTime": {
     "end_time": "2023-10-16T22:13:55.868090Z",
     "start_time": "2023-10-16T22:13:55.206929Z"
    }
   },
   "id": "48289774500a48fa"
  },
  {
   "cell_type": "code",
   "execution_count": 231,
   "outputs": [
    {
     "name": "stdout",
     "output_type": "stream",
     "text": [
      "X_train shape: (3830429, 12)\n",
      "X_test shape: (1641613, 12)\n",
      "y_train shape: (3830429,)\n",
      "y_test shape: (1641613,)\n"
     ]
    }
   ],
   "source": [
    "print(f'X_train shape: {X_train.shape}')\n",
    "print(f'X_test shape: {X_test.shape}')\n",
    "print(f'y_train shape: {y_train.shape}')\n",
    "print(f'y_test shape: {y_test.shape}')"
   ],
   "metadata": {
    "collapsed": false,
    "ExecuteTime": {
     "end_time": "2023-10-16T22:13:57.861443Z",
     "start_time": "2023-10-16T22:13:57.847472Z"
    }
   },
   "id": "ec77318f785701c9"
  },
  {
   "cell_type": "code",
   "execution_count": 232,
   "outputs": [
    {
     "data": {
      "text/plain": "         device_model  device_w  device_h  device_memory   ecpm  \\\n2327052            13      1284      2778         5667.0  69.00   \n613290             15      1290      2796         5618.0  25.65   \n2130775            13      1284      2778         5676.0  54.15   \n5453832            14      1080      2340         3660.0  22.00   \n3281782            15      1179      2556         5644.0  43.70   \n4151982            12       828      1792         3851.0   6.00   \n1395405            13      1284      2778         5676.0  11.00   \n3207873            13      1284      2778         5667.0  31.00   \n2707530            14      1170      2532         5652.0  83.00   \n3654538            14      1170      2532         5686.0  22.00   \n\n         connection_type_mobile_2g  connection_type_mobile_3g  \\\n2327052                          0                          0   \n613290                           0                          0   \n2130775                          0                          0   \n5453832                          0                          0   \n3281782                          0                          0   \n4151982                          0                          0   \n1395405                          0                          0   \n3207873                          0                          0   \n2707530                          0                          0   \n3654538                          0                          0   \n\n         connection_type_mobile_4g  connection_type_mobile_5g  \\\n2327052                          0                          0   \n613290                           0                          0   \n2130775                          0                          1   \n5453832                          0                          0   \n3281782                          0                          1   \n4151982                          0                          0   \n1395405                          0                          0   \n3207873                          0                          0   \n2707530                          0                          0   \n3654538                          0                          0   \n\n         connection_type_wifi  device_type_phone  device_type_tablet  \n2327052                     1                  1                   0  \n613290                      1                  1                   0  \n2130775                     0                  1                   0  \n5453832                     1                  1                   0  \n3281782                     0                  1                   0  \n4151982                     1                  1                   0  \n1395405                     1                  1                   0  \n3207873                     1                  1                   0  \n2707530                     1                  1                   0  \n3654538                     1                  1                   0  ",
      "text/html": "<div>\n<style scoped>\n    .dataframe tbody tr th:only-of-type {\n        vertical-align: middle;\n    }\n\n    .dataframe tbody tr th {\n        vertical-align: top;\n    }\n\n    .dataframe thead th {\n        text-align: right;\n    }\n</style>\n<table border=\"1\" class=\"dataframe\">\n  <thead>\n    <tr style=\"text-align: right;\">\n      <th></th>\n      <th>device_model</th>\n      <th>device_w</th>\n      <th>device_h</th>\n      <th>device_memory</th>\n      <th>ecpm</th>\n      <th>connection_type_mobile_2g</th>\n      <th>connection_type_mobile_3g</th>\n      <th>connection_type_mobile_4g</th>\n      <th>connection_type_mobile_5g</th>\n      <th>connection_type_wifi</th>\n      <th>device_type_phone</th>\n      <th>device_type_tablet</th>\n    </tr>\n  </thead>\n  <tbody>\n    <tr>\n      <th>2327052</th>\n      <td>13</td>\n      <td>1284</td>\n      <td>2778</td>\n      <td>5667.0</td>\n      <td>69.00</td>\n      <td>0</td>\n      <td>0</td>\n      <td>0</td>\n      <td>0</td>\n      <td>1</td>\n      <td>1</td>\n      <td>0</td>\n    </tr>\n    <tr>\n      <th>613290</th>\n      <td>15</td>\n      <td>1290</td>\n      <td>2796</td>\n      <td>5618.0</td>\n      <td>25.65</td>\n      <td>0</td>\n      <td>0</td>\n      <td>0</td>\n      <td>0</td>\n      <td>1</td>\n      <td>1</td>\n      <td>0</td>\n    </tr>\n    <tr>\n      <th>2130775</th>\n      <td>13</td>\n      <td>1284</td>\n      <td>2778</td>\n      <td>5676.0</td>\n      <td>54.15</td>\n      <td>0</td>\n      <td>0</td>\n      <td>0</td>\n      <td>1</td>\n      <td>0</td>\n      <td>1</td>\n      <td>0</td>\n    </tr>\n    <tr>\n      <th>5453832</th>\n      <td>14</td>\n      <td>1080</td>\n      <td>2340</td>\n      <td>3660.0</td>\n      <td>22.00</td>\n      <td>0</td>\n      <td>0</td>\n      <td>0</td>\n      <td>0</td>\n      <td>1</td>\n      <td>1</td>\n      <td>0</td>\n    </tr>\n    <tr>\n      <th>3281782</th>\n      <td>15</td>\n      <td>1179</td>\n      <td>2556</td>\n      <td>5644.0</td>\n      <td>43.70</td>\n      <td>0</td>\n      <td>0</td>\n      <td>0</td>\n      <td>1</td>\n      <td>0</td>\n      <td>1</td>\n      <td>0</td>\n    </tr>\n    <tr>\n      <th>4151982</th>\n      <td>12</td>\n      <td>828</td>\n      <td>1792</td>\n      <td>3851.0</td>\n      <td>6.00</td>\n      <td>0</td>\n      <td>0</td>\n      <td>0</td>\n      <td>0</td>\n      <td>1</td>\n      <td>1</td>\n      <td>0</td>\n    </tr>\n    <tr>\n      <th>1395405</th>\n      <td>13</td>\n      <td>1284</td>\n      <td>2778</td>\n      <td>5676.0</td>\n      <td>11.00</td>\n      <td>0</td>\n      <td>0</td>\n      <td>0</td>\n      <td>0</td>\n      <td>1</td>\n      <td>1</td>\n      <td>0</td>\n    </tr>\n    <tr>\n      <th>3207873</th>\n      <td>13</td>\n      <td>1284</td>\n      <td>2778</td>\n      <td>5667.0</td>\n      <td>31.00</td>\n      <td>0</td>\n      <td>0</td>\n      <td>0</td>\n      <td>0</td>\n      <td>1</td>\n      <td>1</td>\n      <td>0</td>\n    </tr>\n    <tr>\n      <th>2707530</th>\n      <td>14</td>\n      <td>1170</td>\n      <td>2532</td>\n      <td>5652.0</td>\n      <td>83.00</td>\n      <td>0</td>\n      <td>0</td>\n      <td>0</td>\n      <td>0</td>\n      <td>1</td>\n      <td>1</td>\n      <td>0</td>\n    </tr>\n    <tr>\n      <th>3654538</th>\n      <td>14</td>\n      <td>1170</td>\n      <td>2532</td>\n      <td>5686.0</td>\n      <td>22.00</td>\n      <td>0</td>\n      <td>0</td>\n      <td>0</td>\n      <td>0</td>\n      <td>1</td>\n      <td>1</td>\n      <td>0</td>\n    </tr>\n  </tbody>\n</table>\n</div>"
     },
     "execution_count": 232,
     "metadata": {},
     "output_type": "execute_result"
    }
   ],
   "source": [
    "X_train.head(3)"
   ],
   "metadata": {
    "collapsed": false,
    "ExecuteTime": {
     "end_time": "2023-10-16T22:13:57.861934Z",
     "start_time": "2023-10-16T22:13:57.852415Z"
    }
   },
   "id": "75462ac6a6ce112d"
  },
  {
   "cell_type": "code",
   "execution_count": 233,
   "outputs": [],
   "source": [
    "cols = X_train.columns\n",
    "\n",
    "scaler = RobustScaler()\n",
    "\n",
    "X_train = scaler.fit_transform(X_train)\n",
    "X_test = scaler.transform(X_test)\n",
    "\n",
    "X_train = pd.DataFrame(X_train,columns=cols)\n",
    "X_test = pd.DataFrame(X_test,columns=cols)"
   ],
   "metadata": {
    "collapsed": false,
    "ExecuteTime": {
     "end_time": "2023-10-16T22:13:59.083665Z",
     "start_time": "2023-10-16T22:13:57.855976Z"
    }
   },
   "id": "e19a08caa947637b"
  },
  {
   "cell_type": "code",
   "execution_count": 244,
   "outputs": [
    {
     "data": {
      "text/plain": "   device_model  device_w  device_h  device_memory      ecpm  \\\n0           0.0  0.558824  0.484252       0.909364  1.049075   \n1           1.0  0.588235  0.519685       0.884827 -0.147699   \n2           0.0  0.558824  0.484252       0.913871  0.639107   \n\n   connection_type_mobile_2g  connection_type_mobile_3g  \\\n0                        0.0                        0.0   \n1                        0.0                        0.0   \n2                        0.0                        0.0   \n\n   connection_type_mobile_4g  connection_type_mobile_5g  connection_type_wifi  \\\n0                        0.0                        0.0                   0.0   \n1                        0.0                        0.0                   0.0   \n2                        0.0                        1.0                  -1.0   \n\n   device_type_phone  device_type_tablet  \n0                0.0                 0.0  \n1                0.0                 0.0  \n2                0.0                 0.0  ",
      "text/html": "<div>\n<style scoped>\n    .dataframe tbody tr th:only-of-type {\n        vertical-align: middle;\n    }\n\n    .dataframe tbody tr th {\n        vertical-align: top;\n    }\n\n    .dataframe thead th {\n        text-align: right;\n    }\n</style>\n<table border=\"1\" class=\"dataframe\">\n  <thead>\n    <tr style=\"text-align: right;\">\n      <th></th>\n      <th>device_model</th>\n      <th>device_w</th>\n      <th>device_h</th>\n      <th>device_memory</th>\n      <th>ecpm</th>\n      <th>connection_type_mobile_2g</th>\n      <th>connection_type_mobile_3g</th>\n      <th>connection_type_mobile_4g</th>\n      <th>connection_type_mobile_5g</th>\n      <th>connection_type_wifi</th>\n      <th>device_type_phone</th>\n      <th>device_type_tablet</th>\n    </tr>\n  </thead>\n  <tbody>\n    <tr>\n      <th>0</th>\n      <td>0.0</td>\n      <td>0.558824</td>\n      <td>0.484252</td>\n      <td>0.909364</td>\n      <td>1.049075</td>\n      <td>0.0</td>\n      <td>0.0</td>\n      <td>0.0</td>\n      <td>0.0</td>\n      <td>0.0</td>\n      <td>0.0</td>\n      <td>0.0</td>\n    </tr>\n    <tr>\n      <th>1</th>\n      <td>1.0</td>\n      <td>0.588235</td>\n      <td>0.519685</td>\n      <td>0.884827</td>\n      <td>-0.147699</td>\n      <td>0.0</td>\n      <td>0.0</td>\n      <td>0.0</td>\n      <td>0.0</td>\n      <td>0.0</td>\n      <td>0.0</td>\n      <td>0.0</td>\n    </tr>\n    <tr>\n      <th>2</th>\n      <td>0.0</td>\n      <td>0.558824</td>\n      <td>0.484252</td>\n      <td>0.913871</td>\n      <td>0.639107</td>\n      <td>0.0</td>\n      <td>0.0</td>\n      <td>0.0</td>\n      <td>1.0</td>\n      <td>-1.0</td>\n      <td>0.0</td>\n      <td>0.0</td>\n    </tr>\n  </tbody>\n</table>\n</div>"
     },
     "execution_count": 244,
     "metadata": {},
     "output_type": "execute_result"
    }
   ],
   "source": [
    "X_train.head(3)"
   ],
   "metadata": {
    "collapsed": false,
    "ExecuteTime": {
     "end_time": "2023-10-16T22:23:06.041238Z",
     "start_time": "2023-10-16T22:23:06.028807Z"
    }
   },
   "id": "98358fa24636c31b"
  },
  {
   "cell_type": "code",
   "execution_count": 235,
   "outputs": [
    {
     "data": {
      "text/plain": "LogisticRegression(class_weight='balanced', max_iter=4000)",
      "text/html": "<style>#sk-container-id-6 {color: black;}#sk-container-id-6 pre{padding: 0;}#sk-container-id-6 div.sk-toggleable {background-color: white;}#sk-container-id-6 label.sk-toggleable__label {cursor: pointer;display: block;width: 100%;margin-bottom: 0;padding: 0.3em;box-sizing: border-box;text-align: center;}#sk-container-id-6 label.sk-toggleable__label-arrow:before {content: \"▸\";float: left;margin-right: 0.25em;color: #696969;}#sk-container-id-6 label.sk-toggleable__label-arrow:hover:before {color: black;}#sk-container-id-6 div.sk-estimator:hover label.sk-toggleable__label-arrow:before {color: black;}#sk-container-id-6 div.sk-toggleable__content {max-height: 0;max-width: 0;overflow: hidden;text-align: left;background-color: #f0f8ff;}#sk-container-id-6 div.sk-toggleable__content pre {margin: 0.2em;color: black;border-radius: 0.25em;background-color: #f0f8ff;}#sk-container-id-6 input.sk-toggleable__control:checked~div.sk-toggleable__content {max-height: 200px;max-width: 100%;overflow: auto;}#sk-container-id-6 input.sk-toggleable__control:checked~label.sk-toggleable__label-arrow:before {content: \"▾\";}#sk-container-id-6 div.sk-estimator input.sk-toggleable__control:checked~label.sk-toggleable__label {background-color: #d4ebff;}#sk-container-id-6 div.sk-label input.sk-toggleable__control:checked~label.sk-toggleable__label {background-color: #d4ebff;}#sk-container-id-6 input.sk-hidden--visually {border: 0;clip: rect(1px 1px 1px 1px);clip: rect(1px, 1px, 1px, 1px);height: 1px;margin: -1px;overflow: hidden;padding: 0;position: absolute;width: 1px;}#sk-container-id-6 div.sk-estimator {font-family: monospace;background-color: #f0f8ff;border: 1px dotted black;border-radius: 0.25em;box-sizing: border-box;margin-bottom: 0.5em;}#sk-container-id-6 div.sk-estimator:hover {background-color: #d4ebff;}#sk-container-id-6 div.sk-parallel-item::after {content: \"\";width: 100%;border-bottom: 1px solid gray;flex-grow: 1;}#sk-container-id-6 div.sk-label:hover label.sk-toggleable__label {background-color: #d4ebff;}#sk-container-id-6 div.sk-serial::before {content: \"\";position: absolute;border-left: 1px solid gray;box-sizing: border-box;top: 0;bottom: 0;left: 50%;z-index: 0;}#sk-container-id-6 div.sk-serial {display: flex;flex-direction: column;align-items: center;background-color: white;padding-right: 0.2em;padding-left: 0.2em;position: relative;}#sk-container-id-6 div.sk-item {position: relative;z-index: 1;}#sk-container-id-6 div.sk-parallel {display: flex;align-items: stretch;justify-content: center;background-color: white;position: relative;}#sk-container-id-6 div.sk-item::before, #sk-container-id-6 div.sk-parallel-item::before {content: \"\";position: absolute;border-left: 1px solid gray;box-sizing: border-box;top: 0;bottom: 0;left: 50%;z-index: -1;}#sk-container-id-6 div.sk-parallel-item {display: flex;flex-direction: column;z-index: 1;position: relative;background-color: white;}#sk-container-id-6 div.sk-parallel-item:first-child::after {align-self: flex-end;width: 50%;}#sk-container-id-6 div.sk-parallel-item:last-child::after {align-self: flex-start;width: 50%;}#sk-container-id-6 div.sk-parallel-item:only-child::after {width: 0;}#sk-container-id-6 div.sk-dashed-wrapped {border: 1px dashed gray;margin: 0 0.4em 0.5em 0.4em;box-sizing: border-box;padding-bottom: 0.4em;background-color: white;}#sk-container-id-6 div.sk-label label {font-family: monospace;font-weight: bold;display: inline-block;line-height: 1.2em;}#sk-container-id-6 div.sk-label-container {text-align: center;}#sk-container-id-6 div.sk-container {/* jupyter's `normalize.less` sets `[hidden] { display: none; }` but bootstrap.min.css set `[hidden] { display: none !important; }` so we also need the `!important` here to be able to override the default hidden behavior on the sphinx rendered scikit-learn.org. See: https://github.com/scikit-learn/scikit-learn/issues/21755 */display: inline-block !important;position: relative;}#sk-container-id-6 div.sk-text-repr-fallback {display: none;}</style><div id=\"sk-container-id-6\" class=\"sk-top-container\"><div class=\"sk-text-repr-fallback\"><pre>LogisticRegression(class_weight=&#x27;balanced&#x27;, max_iter=4000)</pre><b>In a Jupyter environment, please rerun this cell to show the HTML representation or trust the notebook. <br />On GitHub, the HTML representation is unable to render, please try loading this page with nbviewer.org.</b></div><div class=\"sk-container\" hidden><div class=\"sk-item\"><div class=\"sk-estimator sk-toggleable\"><input class=\"sk-toggleable__control sk-hidden--visually\" id=\"sk-estimator-id-6\" type=\"checkbox\" checked><label for=\"sk-estimator-id-6\" class=\"sk-toggleable__label sk-toggleable__label-arrow\">LogisticRegression</label><div class=\"sk-toggleable__content\"><pre>LogisticRegression(class_weight=&#x27;balanced&#x27;, max_iter=4000)</pre></div></div></div></div></div>"
     },
     "execution_count": 235,
     "metadata": {},
     "output_type": "execute_result"
    }
   ],
   "source": [
    "LogisticRegression_model = LogisticRegression(\n",
    "    class_weight='balanced', \n",
    "    max_iter=4000)\n",
    "LogisticRegression_model.fit(X_train,y_train)"
   ],
   "metadata": {
    "collapsed": false,
    "ExecuteTime": {
     "end_time": "2023-10-16T22:15:04.395156Z",
     "start_time": "2023-10-16T22:15:00.037408Z"
    }
   },
   "id": "a4d9e9462dae5dda"
  },
  {
   "cell_type": "code",
   "execution_count": 236,
   "outputs": [],
   "source": [
    "y_pred = LogisticRegression_model.predict(X_test)"
   ],
   "metadata": {
    "collapsed": false,
    "ExecuteTime": {
     "end_time": "2023-10-16T22:17:01.226784Z",
     "start_time": "2023-10-16T22:17:01.184253Z"
    }
   },
   "id": "e4b329b31965e393"
  },
  {
   "cell_type": "code",
   "execution_count": 237,
   "outputs": [
    {
     "data": {
      "text/plain": "array([[887273, 725314],\n       [  9499,  19527]])"
     },
     "execution_count": 237,
     "metadata": {},
     "output_type": "execute_result"
    }
   ],
   "source": [
    "confusion_matrix = confusion_matrix(y_test,y_pred)\n",
    "confusion_matrix"
   ],
   "metadata": {
    "collapsed": false,
    "ExecuteTime": {
     "end_time": "2023-10-16T22:17:05.294610Z",
     "start_time": "2023-10-16T22:17:05.140418Z"
    }
   },
   "id": "dbf36cd1014e122f"
  },
  {
   "cell_type": "code",
   "execution_count": 238,
   "outputs": [
    {
     "name": "stdout",
     "output_type": "stream",
     "text": [
      "Accuracy:  0.5523835398476986\n",
      "Recall:  0.6727416798732171\n",
      "Precision:  0.02621633341881019\n"
     ]
    }
   ],
   "source": [
    "print('Accuracy: ', (metrics.accuracy_score(y_test, y_pred)))\n",
    "print('Recall: ', (metrics.recall_score(y_test, y_pred)))\n",
    "print('Precision: ', (metrics.precision_score(y_test, y_pred)))\n"
   ],
   "metadata": {
    "collapsed": false,
    "ExecuteTime": {
     "end_time": "2023-10-16T22:17:10.501914Z",
     "start_time": "2023-10-16T22:17:09.726764Z"
    }
   },
   "id": "92fd81760abc57d6"
  },
  {
   "cell_type": "code",
   "execution_count": 242,
   "outputs": [
    {
     "name": "stdout",
     "output_type": "stream",
     "text": [
      "              precision    recall  f1-score   support\n",
      "\n",
      "           0       0.99      0.55      0.71   1612587\n",
      "           1       0.03      0.67      0.05     29026\n",
      "\n",
      "    accuracy                           0.55   1641613\n",
      "   macro avg       0.51      0.61      0.38   1641613\n",
      "weighted avg       0.97      0.55      0.70   1641613\n"
     ]
    }
   ],
   "source": [
    "prediction_prob = LogisticRegression_model.predict_proba(X_test)[:,1]\n",
    "prediction_prob[prediction_prob > 0.5] = 1\n",
    "prediction_prob[prediction_prob <= 0.5] = 0\n",
    "print(classification_report(y_test,prediction_prob))"
   ],
   "metadata": {
    "collapsed": false,
    "ExecuteTime": {
     "end_time": "2023-10-16T22:18:58.864278Z",
     "start_time": "2023-10-16T22:18:56.347628Z"
    }
   },
   "id": "3b73a5e4f6b62446"
  },
  {
   "cell_type": "code",
   "execution_count": 183,
   "outputs": [
    {
     "data": {
      "text/plain": "['lifecycle_counter',\n 'device_model',\n 'device_w',\n 'device_h',\n 'device_memory',\n 'ecpm',\n 'latency',\n 'target',\n 'connection_type_mobile_2g',\n 'connection_type_mobile_3g',\n 'connection_type_mobile_4g',\n 'connection_type_mobile_5g',\n 'connection_type_wifi',\n 'device_type_phone',\n 'device_type_tablet']"
     },
     "execution_count": 183,
     "metadata": {},
     "output_type": "execute_result"
    }
   ],
   "source": [
    "dfcat.columns.tolist()"
   ],
   "metadata": {
    "collapsed": false,
    "ExecuteTime": {
     "end_time": "2023-10-16T20:10:52.301574Z",
     "start_time": "2023-10-16T20:10:52.287607Z"
    }
   },
   "id": "4867f0eb9335c2f2"
  },
  {
   "cell_type": "code",
   "execution_count": 184,
   "outputs": [],
   "source": [
    "X = dfcat.drop(['target'], axis=1)\n",
    "y = dfcat['target']"
   ],
   "metadata": {
    "collapsed": false,
    "ExecuteTime": {
     "end_time": "2023-10-16T20:11:57.555108Z",
     "start_time": "2023-10-16T20:11:57.498541Z"
    }
   },
   "id": "83fdb79098952b8"
  },
  {
   "cell_type": "code",
   "execution_count": 185,
   "outputs": [
    {
     "name": "stdout",
     "output_type": "stream",
     "text": [
      "Fold:1, Train set: 4377633, Test set:1094409\n",
      "Fold:2, Train set: 4377633, Test set:1094409\n",
      "Fold:3, Train set: 4377634, Test set:1094408\n",
      "Fold:4, Train set: 4377634, Test set:1094408\n",
      "Fold:5, Train set: 4377634, Test set:1094408\n"
     ]
    }
   ],
   "source": [
    "kf = StratifiedKFold(n_splits=5, shuffle=True, random_state=42)\n",
    "\n",
    "cnt = 1\n",
    "for train_index, test_index in kf.split(X, y):\n",
    "    print(f'Fold:{cnt}, Train set: {len(train_index)}, Test set:{len(test_index)}')\n",
    "    cnt+=1"
   ],
   "metadata": {
    "collapsed": false,
    "ExecuteTime": {
     "end_time": "2023-10-16T20:12:52.586569Z",
     "start_time": "2023-10-16T20:12:51.894608Z"
    }
   },
   "id": "523951b89c4b9499"
  },
  {
   "cell_type": "code",
   "execution_count": 189,
   "outputs": [
    {
     "data": {
      "text/plain": "LogisticRegression(max_iter=500, random_state=42)",
      "text/html": "<style>#sk-container-id-5 {color: black;}#sk-container-id-5 pre{padding: 0;}#sk-container-id-5 div.sk-toggleable {background-color: white;}#sk-container-id-5 label.sk-toggleable__label {cursor: pointer;display: block;width: 100%;margin-bottom: 0;padding: 0.3em;box-sizing: border-box;text-align: center;}#sk-container-id-5 label.sk-toggleable__label-arrow:before {content: \"▸\";float: left;margin-right: 0.25em;color: #696969;}#sk-container-id-5 label.sk-toggleable__label-arrow:hover:before {color: black;}#sk-container-id-5 div.sk-estimator:hover label.sk-toggleable__label-arrow:before {color: black;}#sk-container-id-5 div.sk-toggleable__content {max-height: 0;max-width: 0;overflow: hidden;text-align: left;background-color: #f0f8ff;}#sk-container-id-5 div.sk-toggleable__content pre {margin: 0.2em;color: black;border-radius: 0.25em;background-color: #f0f8ff;}#sk-container-id-5 input.sk-toggleable__control:checked~div.sk-toggleable__content {max-height: 200px;max-width: 100%;overflow: auto;}#sk-container-id-5 input.sk-toggleable__control:checked~label.sk-toggleable__label-arrow:before {content: \"▾\";}#sk-container-id-5 div.sk-estimator input.sk-toggleable__control:checked~label.sk-toggleable__label {background-color: #d4ebff;}#sk-container-id-5 div.sk-label input.sk-toggleable__control:checked~label.sk-toggleable__label {background-color: #d4ebff;}#sk-container-id-5 input.sk-hidden--visually {border: 0;clip: rect(1px 1px 1px 1px);clip: rect(1px, 1px, 1px, 1px);height: 1px;margin: -1px;overflow: hidden;padding: 0;position: absolute;width: 1px;}#sk-container-id-5 div.sk-estimator {font-family: monospace;background-color: #f0f8ff;border: 1px dotted black;border-radius: 0.25em;box-sizing: border-box;margin-bottom: 0.5em;}#sk-container-id-5 div.sk-estimator:hover {background-color: #d4ebff;}#sk-container-id-5 div.sk-parallel-item::after {content: \"\";width: 100%;border-bottom: 1px solid gray;flex-grow: 1;}#sk-container-id-5 div.sk-label:hover label.sk-toggleable__label {background-color: #d4ebff;}#sk-container-id-5 div.sk-serial::before {content: \"\";position: absolute;border-left: 1px solid gray;box-sizing: border-box;top: 0;bottom: 0;left: 50%;z-index: 0;}#sk-container-id-5 div.sk-serial {display: flex;flex-direction: column;align-items: center;background-color: white;padding-right: 0.2em;padding-left: 0.2em;position: relative;}#sk-container-id-5 div.sk-item {position: relative;z-index: 1;}#sk-container-id-5 div.sk-parallel {display: flex;align-items: stretch;justify-content: center;background-color: white;position: relative;}#sk-container-id-5 div.sk-item::before, #sk-container-id-5 div.sk-parallel-item::before {content: \"\";position: absolute;border-left: 1px solid gray;box-sizing: border-box;top: 0;bottom: 0;left: 50%;z-index: -1;}#sk-container-id-5 div.sk-parallel-item {display: flex;flex-direction: column;z-index: 1;position: relative;background-color: white;}#sk-container-id-5 div.sk-parallel-item:first-child::after {align-self: flex-end;width: 50%;}#sk-container-id-5 div.sk-parallel-item:last-child::after {align-self: flex-start;width: 50%;}#sk-container-id-5 div.sk-parallel-item:only-child::after {width: 0;}#sk-container-id-5 div.sk-dashed-wrapped {border: 1px dashed gray;margin: 0 0.4em 0.5em 0.4em;box-sizing: border-box;padding-bottom: 0.4em;background-color: white;}#sk-container-id-5 div.sk-label label {font-family: monospace;font-weight: bold;display: inline-block;line-height: 1.2em;}#sk-container-id-5 div.sk-label-container {text-align: center;}#sk-container-id-5 div.sk-container {/* jupyter's `normalize.less` sets `[hidden] { display: none; }` but bootstrap.min.css set `[hidden] { display: none !important; }` so we also need the `!important` here to be able to override the default hidden behavior on the sphinx rendered scikit-learn.org. See: https://github.com/scikit-learn/scikit-learn/issues/21755 */display: inline-block !important;position: relative;}#sk-container-id-5 div.sk-text-repr-fallback {display: none;}</style><div id=\"sk-container-id-5\" class=\"sk-top-container\"><div class=\"sk-text-repr-fallback\"><pre>LogisticRegression(max_iter=500, random_state=42)</pre><b>In a Jupyter environment, please rerun this cell to show the HTML representation or trust the notebook. <br />On GitHub, the HTML representation is unable to render, please try loading this page with nbviewer.org.</b></div><div class=\"sk-container\" hidden><div class=\"sk-item\"><div class=\"sk-estimator sk-toggleable\"><input class=\"sk-toggleable__control sk-hidden--visually\" id=\"sk-estimator-id-5\" type=\"checkbox\" checked><label for=\"sk-estimator-id-5\" class=\"sk-toggleable__label sk-toggleable__label-arrow\">LogisticRegression</label><div class=\"sk-toggleable__content\"><pre>LogisticRegression(max_iter=500, random_state=42)</pre></div></div></div></div></div>"
     },
     "execution_count": 189,
     "metadata": {},
     "output_type": "execute_result"
    }
   ],
   "source": [
    "classifier = LogisticRegression(random_state= 42, solver='lbfgs', penalty='l2', max_iter=500)\n",
    "classifier.fit(X_train, y_train)"
   ],
   "metadata": {
    "collapsed": false,
    "ExecuteTime": {
     "end_time": "2023-10-16T20:16:21.763880Z",
     "start_time": "2023-10-16T20:16:06.624922Z"
    }
   },
   "id": "365a758ce0feeb66"
  },
  {
   "cell_type": "code",
   "execution_count": 190,
   "outputs": [
    {
     "name": "stdout",
     "output_type": "stream",
     "text": [
      "Accuracy for each fold: [0.98224247 0.98223607 0.98224154 0.98224154 0.98224154]\n",
      "Average accuracy: 0.98\n"
     ]
    }
   ],
   "source": [
    "acc = cross_val_score(classifier, X, y, cv= kf, scoring=\"accuracy\")\n",
    "print(f'Accuracy for each fold: {acc}')\n",
    "print(f'Average accuracy: {\"{:.2f}\".format(acc.mean())}')"
   ],
   "metadata": {
    "collapsed": false,
    "ExecuteTime": {
     "end_time": "2023-10-16T20:18:25.683272Z",
     "start_time": "2023-10-16T20:16:25.750723Z"
    }
   },
   "id": "7455dff02bdab429"
  },
  {
   "cell_type": "code",
   "execution_count": 191,
   "outputs": [
    {
     "name": "stdout",
     "output_type": "stream",
     "text": [
      "Recall 0.0 [0. 0. 0. 0. 0.]\n"
     ]
    },
    {
     "name": "stderr",
     "output_type": "stream",
     "text": [
      "/Users/gabrieltorga/anaconda3/lib/python3.11/site-packages/sklearn/metrics/_classification.py:1469: UndefinedMetricWarning: Precision is ill-defined and being set to 0.0 due to no predicted samples. Use `zero_division` parameter to control this behavior.\n",
      "  _warn_prf(average, modifier, msg_start, len(result))\n"
     ]
    },
    {
     "name": "stdout",
     "output_type": "stream",
     "text": [
      "Precision 0.0 [0. 0. 0. 0. 0.]\n",
      "F1 0.0 [0. 0. 0. 0. 0.]\n"
     ]
    }
   ],
   "source": [
    "recall = cross_val_score(classifier, X, y, cv= kf, scoring='recall')\n",
    "print('Recall', np.mean(recall), recall)\n",
    "precision = cross_val_score(classifier, X, y, cv= kf, scoring='precision')\n",
    "print('Precision', np.mean(precision), precision)\n",
    "f1 = cross_val_score(classifier, X, y, cv= kf, scoring='f1')\n",
    "print('F1', np.mean(f1), f1)"
   ],
   "metadata": {
    "collapsed": false,
    "ExecuteTime": {
     "end_time": "2023-10-16T20:26:02.821965Z",
     "start_time": "2023-10-16T20:20:07.488831Z"
    }
   },
   "id": "f55171a73229ce0b"
  },
  {
   "cell_type": "code",
   "execution_count": null,
   "outputs": [],
   "source": [],
   "metadata": {
    "collapsed": false
   },
   "id": "fc5b1696dc4a1357"
  }
 ],
 "metadata": {
  "kernelspec": {
   "display_name": "Python 3",
   "language": "python",
   "name": "python3"
  },
  "language_info": {
   "codemirror_mode": {
    "name": "ipython",
    "version": 2
   },
   "file_extension": ".py",
   "mimetype": "text/x-python",
   "name": "python",
   "nbconvert_exporter": "python",
   "pygments_lexer": "ipython2",
   "version": "2.7.6"
  }
 },
 "nbformat": 4,
 "nbformat_minor": 5
}
